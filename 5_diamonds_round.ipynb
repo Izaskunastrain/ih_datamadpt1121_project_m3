{
 "cells": [
  {
   "cell_type": "code",
   "execution_count": 12,
   "id": "9ad52e84",
   "metadata": {},
   "outputs": [],
   "source": [
    "import numpy as np\n",
    "import pandas as pd\n",
    "import matplotlib.pyplot as plt\n",
    "\n",
    "from sklearn import datasets\n",
    "from sklearn.datasets import make_regression\n",
    "from sklearn.model_selection import train_test_split\n",
    "from sklearn.preprocessing import StandardScaler\n",
    "from sklearn.metrics import mean_squared_error\n",
    "from sklearn.ensemble import RandomForestRegressor\n",
    "from sklearn.ensemble import ExtraTreesRegressor\n",
    "\n",
    "\n",
    "import pickle\n",
    "import joblib\n",
    "\n",
    "from sklearn import linear_model\n",
    "from sklearn.linear_model import ElasticNet\n",
    "from sklearn.linear_model import Ridge\n",
    "from sklearn.svm import SVR\n",
    "from sklearn.linear_model import SGDRegressor\n",
    "from sklearn.linear_model import LinearRegression"
   ]
  },
  {
   "cell_type": "markdown",
   "id": "0878d3b2",
   "metadata": {},
   "source": [
    "<h2> Entreno el modelo </h2>"
   ]
  },
  {
   "cell_type": "code",
   "execution_count": 13,
   "id": "f84510f8",
   "metadata": {},
   "outputs": [
    {
     "data": {
      "text/html": [
       "<div>\n",
       "<style scoped>\n",
       "    .dataframe tbody tr th:only-of-type {\n",
       "        vertical-align: middle;\n",
       "    }\n",
       "\n",
       "    .dataframe tbody tr th {\n",
       "        vertical-align: top;\n",
       "    }\n",
       "\n",
       "    .dataframe thead th {\n",
       "        text-align: right;\n",
       "    }\n",
       "</style>\n",
       "<table border=\"1\" class=\"dataframe\">\n",
       "  <thead>\n",
       "    <tr style=\"text-align: right;\">\n",
       "      <th></th>\n",
       "      <th>Index_ID</th>\n",
       "      <th>Clarity</th>\n",
       "      <th>Color</th>\n",
       "      <th>Cut</th>\n",
       "      <th>Depth</th>\n",
       "      <th>x</th>\n",
       "      <th>y</th>\n",
       "      <th>z</th>\n",
       "      <th>Table</th>\n",
       "      <th>Price</th>\n",
       "      <th>City</th>\n",
       "      <th>Carat</th>\n",
       "    </tr>\n",
       "  </thead>\n",
       "  <tbody>\n",
       "    <tr>\n",
       "      <th>0</th>\n",
       "      <td>5feceb66ffc86f38d952786c6d696c79c2dbc239dd4e91...</td>\n",
       "      <td>VS2</td>\n",
       "      <td>J</td>\n",
       "      <td>Premium</td>\n",
       "      <td>62.4</td>\n",
       "      <td>6.83</td>\n",
       "      <td>6.79</td>\n",
       "      <td>4.25</td>\n",
       "      <td>58.0</td>\n",
       "      <td>4268</td>\n",
       "      <td>Dubai</td>\n",
       "      <td>1.21</td>\n",
       "    </tr>\n",
       "    <tr>\n",
       "      <th>1</th>\n",
       "      <td>6b86b273ff34fce19d6b804eff5a3f5747ada4eaa22f1d...</td>\n",
       "      <td>VS2</td>\n",
       "      <td>H</td>\n",
       "      <td>Very Good</td>\n",
       "      <td>63.0</td>\n",
       "      <td>4.35</td>\n",
       "      <td>4.38</td>\n",
       "      <td>2.75</td>\n",
       "      <td>57.0</td>\n",
       "      <td>505</td>\n",
       "      <td>Kimberly</td>\n",
       "      <td>0.32</td>\n",
       "    </tr>\n",
       "    <tr>\n",
       "      <th>2</th>\n",
       "      <td>d4735e3a265e16eee03f59718b9b5d03019c07d8b6c51f...</td>\n",
       "      <td>VS1</td>\n",
       "      <td>G</td>\n",
       "      <td>Fair</td>\n",
       "      <td>65.5</td>\n",
       "      <td>5.62</td>\n",
       "      <td>5.53</td>\n",
       "      <td>3.65</td>\n",
       "      <td>55.0</td>\n",
       "      <td>2686</td>\n",
       "      <td>Las Vegas</td>\n",
       "      <td>0.71</td>\n",
       "    </tr>\n",
       "    <tr>\n",
       "      <th>3</th>\n",
       "      <td>4e07408562bedb8b60ce05c1decfe3ad16b72230967de0...</td>\n",
       "      <td>SI1</td>\n",
       "      <td>D</td>\n",
       "      <td>Good</td>\n",
       "      <td>63.8</td>\n",
       "      <td>4.68</td>\n",
       "      <td>4.72</td>\n",
       "      <td>3.00</td>\n",
       "      <td>56.0</td>\n",
       "      <td>738</td>\n",
       "      <td>Kimberly</td>\n",
       "      <td>0.41</td>\n",
       "    </tr>\n",
       "    <tr>\n",
       "      <th>4</th>\n",
       "      <td>4b227777d4dd1fc61c6f884f48641d02b4d121d3fd328c...</td>\n",
       "      <td>SI1</td>\n",
       "      <td>G</td>\n",
       "      <td>Ideal</td>\n",
       "      <td>60.5</td>\n",
       "      <td>6.55</td>\n",
       "      <td>6.51</td>\n",
       "      <td>3.95</td>\n",
       "      <td>59.0</td>\n",
       "      <td>4882</td>\n",
       "      <td>Dubai</td>\n",
       "      <td>1.02</td>\n",
       "    </tr>\n",
       "  </tbody>\n",
       "</table>\n",
       "</div>"
      ],
      "text/plain": [
       "                                            Index_ID Clarity Color        Cut  \\\n",
       "0  5feceb66ffc86f38d952786c6d696c79c2dbc239dd4e91...     VS2     J    Premium   \n",
       "1  6b86b273ff34fce19d6b804eff5a3f5747ada4eaa22f1d...     VS2     H  Very Good   \n",
       "2  d4735e3a265e16eee03f59718b9b5d03019c07d8b6c51f...     VS1     G       Fair   \n",
       "3  4e07408562bedb8b60ce05c1decfe3ad16b72230967de0...     SI1     D       Good   \n",
       "4  4b227777d4dd1fc61c6f884f48641d02b4d121d3fd328c...     SI1     G      Ideal   \n",
       "\n",
       "   Depth     x     y     z  Table  Price       City  Carat  \n",
       "0   62.4  6.83  6.79  4.25   58.0   4268      Dubai   1.21  \n",
       "1   63.0  4.35  4.38  2.75   57.0    505   Kimberly   0.32  \n",
       "2   65.5  5.62  5.53  3.65   55.0   2686  Las Vegas   0.71  \n",
       "3   63.8  4.68  4.72  3.00   56.0    738   Kimberly   0.41  \n",
       "4   60.5  6.55  6.51  3.95   59.0   4882      Dubai   1.02  "
      ]
     },
     "execution_count": 13,
     "metadata": {},
     "output_type": "execute_result"
    }
   ],
   "source": [
    "#me traigo el dataset de entrenamiento\n",
    "\n",
    "diamonds= pd.read_csv('./data/diamonds_train_sab_2.csv')\n",
    "\n",
    "diamonds.head()"
   ]
  },
  {
   "cell_type": "code",
   "execution_count": 19,
   "id": "bc29a16a",
   "metadata": {},
   "outputs": [],
   "source": [
    "# creo una nueva columna para quitarme x, y z\n",
    "diamonds['xyz'] = diamonds['x'] * diamonds['y']*diamonds['z']*diamonds['Table']*diamonds['Depth']*diamonds['Carat']\n",
    "diamonds['T/D'] = diamonds['Table'] / diamonds['Depth']\n",
    "diamonds['C/C'] = diamonds['Clarity'] + diamonds['Color']\n",
    "\n"
   ]
  },
  {
   "cell_type": "code",
   "execution_count": null,
   "id": "001ece9a",
   "metadata": {},
   "outputs": [],
   "source": []
  },
  {
   "cell_type": "code",
   "execution_count": 29,
   "id": "a93287ec",
   "metadata": {},
   "outputs": [],
   "source": [
    "#columnas con las que me quedo\n",
    "X_train_original= diamonds [['Carat', 'Cut','Color', 'Table','Depth','xyz','T/D','C/C','City', 'Clarity']]\n",
    "y= diamonds['Price']\n"
   ]
  },
  {
   "cell_type": "code",
   "execution_count": null,
   "id": "44412dbb",
   "metadata": {},
   "outputs": [],
   "source": []
  },
  {
   "cell_type": "code",
   "execution_count": 30,
   "id": "625befdb",
   "metadata": {},
   "outputs": [],
   "source": [
    "# get dummies, escalado y entrenar mi modelo\n",
    "\n",
    "X_train_dummies= pd.get_dummies(X_train_original)\n",
    "\n",
    "#scaler=StandardScaler()\n",
    "#X_train_scaled= scaler.fit_transform(X_train_dummies)\n",
    "\n",
    "X= X_train_dummies \n",
    "y= diamonds['Price']\n"
   ]
  },
  {
   "cell_type": "code",
   "execution_count": 31,
   "id": "a6050833",
   "metadata": {},
   "outputs": [
    {
     "data": {
      "text/plain": [
       "Index(['Carat', 'Table', 'Depth', 'xyz', 'T/D', 'Cut_Fair', 'Cut_Good',\n",
       "       'Cut_Ideal', 'Cut_Premium', 'Cut_Very Good', 'Color_D', 'Color_E',\n",
       "       'Color_F', 'Color_G', 'Color_H', 'Color_I', 'Color_J', 'C/C_I1D',\n",
       "       'C/C_I1E', 'C/C_I1F', 'C/C_I1G', 'C/C_I1H', 'C/C_I1I', 'C/C_I1J',\n",
       "       'C/C_IFD', 'C/C_IFE', 'C/C_IFF', 'C/C_IFG', 'C/C_IFH', 'C/C_IFI',\n",
       "       'C/C_IFJ', 'C/C_SI1D', 'C/C_SI1E', 'C/C_SI1F', 'C/C_SI1G', 'C/C_SI1H',\n",
       "       'C/C_SI1I', 'C/C_SI1J', 'C/C_SI2D', 'C/C_SI2E', 'C/C_SI2F', 'C/C_SI2G',\n",
       "       'C/C_SI2H', 'C/C_SI2I', 'C/C_SI2J', 'C/C_VS1D', 'C/C_VS1E', 'C/C_VS1F',\n",
       "       'C/C_VS1G', 'C/C_VS1H', 'C/C_VS1I', 'C/C_VS1J', 'C/C_VS2D', 'C/C_VS2E',\n",
       "       'C/C_VS2F', 'C/C_VS2G', 'C/C_VS2H', 'C/C_VS2I', 'C/C_VS2J', 'C/C_VVS1D',\n",
       "       'C/C_VVS1E', 'C/C_VVS1F', 'C/C_VVS1G', 'C/C_VVS1H', 'C/C_VVS1I',\n",
       "       'C/C_VVS1J', 'C/C_VVS2D', 'C/C_VVS2E', 'C/C_VVS2F', 'C/C_VVS2G',\n",
       "       'C/C_VVS2H', 'C/C_VVS2I', 'C/C_VVS2J', 'City_Amsterdam', 'City_Antwerp',\n",
       "       'City_Dubai', 'City_Kimberly', 'City_Las Vegas', 'City_London',\n",
       "       'City_Luxembourg', 'City_Madrid', 'City_New York City', 'City_Paris',\n",
       "       'City_Surat', 'City_Tel Aviv', 'City_Zurich', 'Clarity_I1',\n",
       "       'Clarity_IF', 'Clarity_SI1', 'Clarity_SI2', 'Clarity_VS1',\n",
       "       'Clarity_VS2', 'Clarity_VVS1', 'Clarity_VVS2'],\n",
       "      dtype='object')"
      ]
     },
     "execution_count": 31,
     "metadata": {},
     "output_type": "execute_result"
    }
   ],
   "source": [
    "X.columns"
   ]
  },
  {
   "cell_type": "code",
   "execution_count": 32,
   "id": "8b80c26a",
   "metadata": {},
   "outputs": [],
   "source": [
    "# split\n",
    "X_train, X_test, y_train, y_test = train_test_split(X, y, test_size=0.2, random_state=42)"
   ]
  },
  {
   "cell_type": "markdown",
   "id": "b2bea221",
   "metadata": {},
   "source": [
    "<h2> Compruebo mi error </h2>"
   ]
  },
  {
   "cell_type": "code",
   "execution_count": 33,
   "id": "bc25432e",
   "metadata": {},
   "outputs": [
    {
     "name": "stdout",
     "output_type": "stream",
     "text": [
      "rmse RandomForestRegressor 595.123693725396\n"
     ]
    }
   ],
   "source": [
    "model= RandomForestRegressor(max_depth=12)\n",
    "model.fit(X_train, y_train)\n",
    "y_pred = model.predict(X_test)\n",
    "rmse = mean_squared_error(y_test, y_pred)**0.5\n",
    "\n",
    "print('rmse RandomForestRegressor', rmse)"
   ]
  },
  {
   "cell_type": "markdown",
   "id": "18757935",
   "metadata": {},
   "source": [
    "<h2> Hago la prediccion </h2>"
   ]
  },
  {
   "cell_type": "code",
   "execution_count": 34,
   "id": "e0576447",
   "metadata": {},
   "outputs": [
    {
     "data": {
      "text/html": [
       "<div>\n",
       "<style scoped>\n",
       "    .dataframe tbody tr th:only-of-type {\n",
       "        vertical-align: middle;\n",
       "    }\n",
       "\n",
       "    .dataframe tbody tr th {\n",
       "        vertical-align: top;\n",
       "    }\n",
       "\n",
       "    .dataframe thead th {\n",
       "        text-align: right;\n",
       "    }\n",
       "</style>\n",
       "<table border=\"1\" class=\"dataframe\">\n",
       "  <thead>\n",
       "    <tr style=\"text-align: right;\">\n",
       "      <th></th>\n",
       "      <th>id</th>\n",
       "      <th>carat</th>\n",
       "      <th>cut</th>\n",
       "      <th>color</th>\n",
       "      <th>clarity</th>\n",
       "      <th>depth</th>\n",
       "      <th>table</th>\n",
       "      <th>x</th>\n",
       "      <th>y</th>\n",
       "      <th>z</th>\n",
       "      <th>city</th>\n",
       "    </tr>\n",
       "  </thead>\n",
       "  <tbody>\n",
       "    <tr>\n",
       "      <th>0</th>\n",
       "      <td>0</td>\n",
       "      <td>0.79</td>\n",
       "      <td>Very Good</td>\n",
       "      <td>F</td>\n",
       "      <td>SI1</td>\n",
       "      <td>62.7</td>\n",
       "      <td>60.0</td>\n",
       "      <td>5.82</td>\n",
       "      <td>5.89</td>\n",
       "      <td>3.67</td>\n",
       "      <td>Amsterdam</td>\n",
       "    </tr>\n",
       "    <tr>\n",
       "      <th>1</th>\n",
       "      <td>1</td>\n",
       "      <td>1.20</td>\n",
       "      <td>Ideal</td>\n",
       "      <td>J</td>\n",
       "      <td>VS1</td>\n",
       "      <td>61.0</td>\n",
       "      <td>57.0</td>\n",
       "      <td>6.81</td>\n",
       "      <td>6.89</td>\n",
       "      <td>4.18</td>\n",
       "      <td>Surat</td>\n",
       "    </tr>\n",
       "    <tr>\n",
       "      <th>2</th>\n",
       "      <td>2</td>\n",
       "      <td>1.57</td>\n",
       "      <td>Premium</td>\n",
       "      <td>H</td>\n",
       "      <td>SI1</td>\n",
       "      <td>62.2</td>\n",
       "      <td>61.0</td>\n",
       "      <td>7.38</td>\n",
       "      <td>7.32</td>\n",
       "      <td>4.57</td>\n",
       "      <td>Kimberly</td>\n",
       "    </tr>\n",
       "    <tr>\n",
       "      <th>3</th>\n",
       "      <td>3</td>\n",
       "      <td>0.90</td>\n",
       "      <td>Very Good</td>\n",
       "      <td>F</td>\n",
       "      <td>SI1</td>\n",
       "      <td>63.8</td>\n",
       "      <td>54.0</td>\n",
       "      <td>6.09</td>\n",
       "      <td>6.13</td>\n",
       "      <td>3.90</td>\n",
       "      <td>Kimberly</td>\n",
       "    </tr>\n",
       "    <tr>\n",
       "      <th>4</th>\n",
       "      <td>4</td>\n",
       "      <td>0.50</td>\n",
       "      <td>Very Good</td>\n",
       "      <td>F</td>\n",
       "      <td>VS1</td>\n",
       "      <td>62.9</td>\n",
       "      <td>58.0</td>\n",
       "      <td>5.05</td>\n",
       "      <td>5.09</td>\n",
       "      <td>3.19</td>\n",
       "      <td>Amsterdam</td>\n",
       "    </tr>\n",
       "  </tbody>\n",
       "</table>\n",
       "</div>"
      ],
      "text/plain": [
       "   id  carat        cut color clarity  depth  table     x     y     z  \\\n",
       "0   0   0.79  Very Good     F     SI1   62.7   60.0  5.82  5.89  3.67   \n",
       "1   1   1.20      Ideal     J     VS1   61.0   57.0  6.81  6.89  4.18   \n",
       "2   2   1.57    Premium     H     SI1   62.2   61.0  7.38  7.32  4.57   \n",
       "3   3   0.90  Very Good     F     SI1   63.8   54.0  6.09  6.13  3.90   \n",
       "4   4   0.50  Very Good     F     VS1   62.9   58.0  5.05  5.09  3.19   \n",
       "\n",
       "        city  \n",
       "0  Amsterdam  \n",
       "1      Surat  \n",
       "2   Kimberly  \n",
       "3   Kimberly  \n",
       "4  Amsterdam  "
      ]
     },
     "execution_count": 34,
     "metadata": {},
     "output_type": "execute_result"
    }
   ],
   "source": [
    "test_df= pd.read_csv('./data/diamonds_test.csv')\n",
    "test_df.head()"
   ]
  },
  {
   "cell_type": "code",
   "execution_count": null,
   "id": "0437cf10",
   "metadata": {},
   "outputs": [],
   "source": []
  },
  {
   "cell_type": "markdown",
   "id": "dd73cdec",
   "metadata": {},
   "source": [
    "<h2> Preparo el dataframe como he hecho con el train </h2>"
   ]
  },
  {
   "cell_type": "code",
   "execution_count": 35,
   "id": "816bb1cf",
   "metadata": {},
   "outputs": [],
   "source": [
    "# creo una nueva columna para quitarme x, y z\n",
    "\n",
    "test_df['xyz'] = test_df['x'] * test_df['y']*test_df['z']*test_df['table']*test_df['depth']*test_df['carat']\n",
    "test_df['T/D'] = test_df['table'] / test_df['depth']\n",
    "test_df['C/C'] = test_df['clarity'] + test_df['color']\n",
    "\n",
    "\n",
    "#columnas con las que me quedo\n",
    "\n",
    "test_df_mod= test_df [['carat', 'cut','color', 'table','depth','xyz','T/D','C/C','city','clarity']]\n",
    "\n",
    "\n",
    "# get dummies y escalado\n",
    "\n",
    "test_df_mod= pd.get_dummies(test_df_mod)\n",
    "\n",
    "#scaler=StandardScaler()\n",
    "#X_test= scaler.fit_transform(test_df_mod)\n",
    "\n",
    "X_test= test_df_mod"
   ]
  },
  {
   "cell_type": "code",
   "execution_count": 36,
   "id": "f8c7b108",
   "metadata": {},
   "outputs": [
    {
     "data": {
      "text/plain": [
       "Index(['carat', 'table', 'depth', 'xyz', 'T/D', 'cut_Fair', 'cut_Good',\n",
       "       'cut_Ideal', 'cut_Premium', 'cut_Very Good', 'color_D', 'color_E',\n",
       "       'color_F', 'color_G', 'color_H', 'color_I', 'color_J', 'C/C_I1D',\n",
       "       'C/C_I1E', 'C/C_I1F', 'C/C_I1G', 'C/C_I1H', 'C/C_I1I', 'C/C_I1J',\n",
       "       'C/C_IFD', 'C/C_IFE', 'C/C_IFF', 'C/C_IFG', 'C/C_IFH', 'C/C_IFI',\n",
       "       'C/C_IFJ', 'C/C_SI1D', 'C/C_SI1E', 'C/C_SI1F', 'C/C_SI1G', 'C/C_SI1H',\n",
       "       'C/C_SI1I', 'C/C_SI1J', 'C/C_SI2D', 'C/C_SI2E', 'C/C_SI2F', 'C/C_SI2G',\n",
       "       'C/C_SI2H', 'C/C_SI2I', 'C/C_SI2J', 'C/C_VS1D', 'C/C_VS1E', 'C/C_VS1F',\n",
       "       'C/C_VS1G', 'C/C_VS1H', 'C/C_VS1I', 'C/C_VS1J', 'C/C_VS2D', 'C/C_VS2E',\n",
       "       'C/C_VS2F', 'C/C_VS2G', 'C/C_VS2H', 'C/C_VS2I', 'C/C_VS2J', 'C/C_VVS1D',\n",
       "       'C/C_VVS1E', 'C/C_VVS1F', 'C/C_VVS1G', 'C/C_VVS1H', 'C/C_VVS1I',\n",
       "       'C/C_VVS1J', 'C/C_VVS2D', 'C/C_VVS2E', 'C/C_VVS2F', 'C/C_VVS2G',\n",
       "       'C/C_VVS2H', 'C/C_VVS2I', 'C/C_VVS2J', 'city_Amsterdam', 'city_Antwerp',\n",
       "       'city_Dubai', 'city_Kimberly', 'city_Las Vegas', 'city_London',\n",
       "       'city_Luxembourg', 'city_Madrid', 'city_New York City', 'city_Paris',\n",
       "       'city_Surat', 'city_Tel Aviv', 'city_Zurich', 'clarity_I1',\n",
       "       'clarity_IF', 'clarity_SI1', 'clarity_SI2', 'clarity_VS1',\n",
       "       'clarity_VS2', 'clarity_VVS1', 'clarity_VVS2'],\n",
       "      dtype='object')"
      ]
     },
     "execution_count": 36,
     "metadata": {},
     "output_type": "execute_result"
    }
   ],
   "source": [
    "X_test.columns"
   ]
  },
  {
   "cell_type": "code",
   "execution_count": 37,
   "id": "cd39581a",
   "metadata": {},
   "outputs": [
    {
     "name": "stderr",
     "output_type": "stream",
     "text": [
      "/Users/Izaskun/miniconda3/envs/machine/lib/python3.7/site-packages/sklearn/base.py:493: FutureWarning: The feature names should match those that were passed during fit. Starting version 1.2, an error will be raised.\n",
      "Feature names unseen at fit time:\n",
      "- carat\n",
      "- city_Amsterdam\n",
      "- city_Antwerp\n",
      "- city_Dubai\n",
      "- city_Kimberly\n",
      "- ...\n",
      "Feature names seen at fit time, yet now missing:\n",
      "- Carat\n",
      "- City_Amsterdam\n",
      "- City_Antwerp\n",
      "- City_Dubai\n",
      "- City_Kimberly\n",
      "- ...\n",
      "\n",
      "  warnings.warn(message, FutureWarning)\n"
     ]
    },
    {
     "data": {
      "text/plain": [
       "13485"
      ]
     },
     "execution_count": 37,
     "metadata": {},
     "output_type": "execute_result"
    }
   ],
   "source": [
    "#hago la predicción de los valores de y con mi modelo\n",
    "y_pred= model.predict(X_test)\n",
    "len(y_pred)"
   ]
  },
  {
   "cell_type": "code",
   "execution_count": 38,
   "id": "526d8cdd",
   "metadata": {},
   "outputs": [],
   "source": [
    "# creo el csv en el formato que hay que subirlo\n",
    "submission = pd.DataFrame({'id': test_df['id'] , 'price': y_pred})\n",
    "submission.to_csv('./data_submission/submission_4_4_3.csv',index=False)"
   ]
  },
  {
   "cell_type": "code",
   "execution_count": null,
   "id": "5c91b7df",
   "metadata": {},
   "outputs": [],
   "source": []
  },
  {
   "cell_type": "code",
   "execution_count": null,
   "id": "e8ff23e7",
   "metadata": {},
   "outputs": [],
   "source": []
  }
 ],
 "metadata": {
  "kernelspec": {
   "display_name": "Python [conda env:machine]",
   "language": "python",
   "name": "conda-env-machine-py"
  },
  "language_info": {
   "codemirror_mode": {
    "name": "ipython",
    "version": 3
   },
   "file_extension": ".py",
   "mimetype": "text/x-python",
   "name": "python",
   "nbconvert_exporter": "python",
   "pygments_lexer": "ipython3",
   "version": "3.7.13"
  }
 },
 "nbformat": 4,
 "nbformat_minor": 5
}
