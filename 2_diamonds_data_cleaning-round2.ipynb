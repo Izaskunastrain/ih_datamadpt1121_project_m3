{
 "cells": [
  {
   "cell_type": "code",
   "execution_count": 112,
   "id": "fcf53a2b",
   "metadata": {},
   "outputs": [],
   "source": [
    "import numpy as np\n",
    "import pandas as pd\n",
    "import matplotlib.pyplot as plt\n",
    "\n",
    "from sklearn import datasets\n",
    "from sklearn.datasets import make_regression\n",
    "from sklearn.model_selection import train_test_split\n",
    "from sklearn.preprocessing import StandardScaler\n",
    "from sklearn.metrics import mean_squared_error\n",
    "from sklearn.ensemble import RandomForestRegressor\n",
    "from sklearn.ensemble import ExtraTreesRegressor\n",
    "\n",
    "\n",
    "import pickle\n",
    "import joblib\n",
    "\n",
    "from sklearn import linear_model\n",
    "from sklearn.linear_model import ElasticNet\n",
    "from sklearn.linear_model import Ridge\n",
    "from sklearn.svm import SVR\n",
    "from sklearn.linear_model import SGDRegressor\n",
    "from sklearn.linear_model import LinearRegression"
   ]
  },
  {
   "cell_type": "code",
   "execution_count": 113,
   "id": "244c6d74",
   "metadata": {},
   "outputs": [
    {
     "data": {
      "text/html": [
       "<div>\n",
       "<style scoped>\n",
       "    .dataframe tbody tr th:only-of-type {\n",
       "        vertical-align: middle;\n",
       "    }\n",
       "\n",
       "    .dataframe tbody tr th {\n",
       "        vertical-align: top;\n",
       "    }\n",
       "\n",
       "    .dataframe thead th {\n",
       "        text-align: right;\n",
       "    }\n",
       "</style>\n",
       "<table border=\"1\" class=\"dataframe\">\n",
       "  <thead>\n",
       "    <tr style=\"text-align: right;\">\n",
       "      <th></th>\n",
       "      <th>Index_ID</th>\n",
       "      <th>Clarity</th>\n",
       "      <th>Color</th>\n",
       "      <th>Cut</th>\n",
       "      <th>Depth</th>\n",
       "      <th>x</th>\n",
       "      <th>y</th>\n",
       "      <th>z</th>\n",
       "      <th>Table</th>\n",
       "      <th>Price</th>\n",
       "      <th>City</th>\n",
       "      <th>Carat</th>\n",
       "    </tr>\n",
       "  </thead>\n",
       "  <tbody>\n",
       "    <tr>\n",
       "      <th>0</th>\n",
       "      <td>5feceb66ffc86f38d952786c6d696c79c2dbc239dd4e91...</td>\n",
       "      <td>VS2</td>\n",
       "      <td>J</td>\n",
       "      <td>Premium</td>\n",
       "      <td>62.4</td>\n",
       "      <td>6.83</td>\n",
       "      <td>6.79</td>\n",
       "      <td>4.25</td>\n",
       "      <td>58.0</td>\n",
       "      <td>4268</td>\n",
       "      <td>Dubai</td>\n",
       "      <td>1.21</td>\n",
       "    </tr>\n",
       "    <tr>\n",
       "      <th>1</th>\n",
       "      <td>6b86b273ff34fce19d6b804eff5a3f5747ada4eaa22f1d...</td>\n",
       "      <td>VS2</td>\n",
       "      <td>H</td>\n",
       "      <td>Very Good</td>\n",
       "      <td>63.0</td>\n",
       "      <td>4.35</td>\n",
       "      <td>4.38</td>\n",
       "      <td>2.75</td>\n",
       "      <td>57.0</td>\n",
       "      <td>505</td>\n",
       "      <td>Kimberly</td>\n",
       "      <td>0.32</td>\n",
       "    </tr>\n",
       "    <tr>\n",
       "      <th>2</th>\n",
       "      <td>d4735e3a265e16eee03f59718b9b5d03019c07d8b6c51f...</td>\n",
       "      <td>VS1</td>\n",
       "      <td>G</td>\n",
       "      <td>Fair</td>\n",
       "      <td>65.5</td>\n",
       "      <td>5.62</td>\n",
       "      <td>5.53</td>\n",
       "      <td>3.65</td>\n",
       "      <td>55.0</td>\n",
       "      <td>2686</td>\n",
       "      <td>Las Vegas</td>\n",
       "      <td>0.71</td>\n",
       "    </tr>\n",
       "    <tr>\n",
       "      <th>3</th>\n",
       "      <td>4e07408562bedb8b60ce05c1decfe3ad16b72230967de0...</td>\n",
       "      <td>SI1</td>\n",
       "      <td>D</td>\n",
       "      <td>Good</td>\n",
       "      <td>63.8</td>\n",
       "      <td>4.68</td>\n",
       "      <td>4.72</td>\n",
       "      <td>3.00</td>\n",
       "      <td>56.0</td>\n",
       "      <td>738</td>\n",
       "      <td>Kimberly</td>\n",
       "      <td>0.41</td>\n",
       "    </tr>\n",
       "    <tr>\n",
       "      <th>4</th>\n",
       "      <td>4b227777d4dd1fc61c6f884f48641d02b4d121d3fd328c...</td>\n",
       "      <td>SI1</td>\n",
       "      <td>G</td>\n",
       "      <td>Ideal</td>\n",
       "      <td>60.5</td>\n",
       "      <td>6.55</td>\n",
       "      <td>6.51</td>\n",
       "      <td>3.95</td>\n",
       "      <td>59.0</td>\n",
       "      <td>4882</td>\n",
       "      <td>Dubai</td>\n",
       "      <td>1.02</td>\n",
       "    </tr>\n",
       "  </tbody>\n",
       "</table>\n",
       "</div>"
      ],
      "text/plain": [
       "                                            Index_ID Clarity Color        Cut  \\\n",
       "0  5feceb66ffc86f38d952786c6d696c79c2dbc239dd4e91...     VS2     J    Premium   \n",
       "1  6b86b273ff34fce19d6b804eff5a3f5747ada4eaa22f1d...     VS2     H  Very Good   \n",
       "2  d4735e3a265e16eee03f59718b9b5d03019c07d8b6c51f...     VS1     G       Fair   \n",
       "3  4e07408562bedb8b60ce05c1decfe3ad16b72230967de0...     SI1     D       Good   \n",
       "4  4b227777d4dd1fc61c6f884f48641d02b4d121d3fd328c...     SI1     G      Ideal   \n",
       "\n",
       "   Depth     x     y     z  Table  Price       City  Carat  \n",
       "0   62.4  6.83  6.79  4.25   58.0   4268      Dubai   1.21  \n",
       "1   63.0  4.35  4.38  2.75   57.0    505   Kimberly   0.32  \n",
       "2   65.5  5.62  5.53  3.65   55.0   2686  Las Vegas   0.71  \n",
       "3   63.8  4.68  4.72  3.00   56.0    738   Kimberly   0.41  \n",
       "4   60.5  6.55  6.51  3.95   59.0   4882      Dubai   1.02  "
      ]
     },
     "execution_count": 113,
     "metadata": {},
     "output_type": "execute_result"
    }
   ],
   "source": [
    "#me traigo el dataset de entrenamiento\n",
    "\n",
    "diamonds= pd.read_csv('./data/diamonds_train_sab_2.csv')\n",
    "\n",
    "diamonds.head()"
   ]
  },
  {
   "cell_type": "code",
   "execution_count": 143,
   "id": "e91fdbb3",
   "metadata": {},
   "outputs": [
    {
     "data": {
      "text/plain": [
       "<AxesSubplot:xlabel='Price', ylabel='Carat'>"
      ]
     },
     "execution_count": 143,
     "metadata": {},
     "output_type": "execute_result"
    },
    {
     "data": {
      "image/png": "[encoded data removed]",
      "text/plain": [
       "<Figure size 432x288 with 1 Axes>"
      ]
     },
     "metadata": {
      "needs_background": "light"
     },
     "output_type": "display_data"
    }
   ],
   "source": [
    "diamonds.plot(kind='scatter',x='Price', y='Carat',color='red')"
   ]
  },
  {
   "cell_type": "code",
   "execution_count": 116,
   "id": "6f302378",
   "metadata": {},
   "outputs": [
    {
     "data": {
      "text/html": [
       "<div>\n",
       "<style scoped>\n",
       "    .dataframe tbody tr th:only-of-type {\n",
       "        vertical-align: middle;\n",
       "    }\n",
       "\n",
       "    .dataframe tbody tr th {\n",
       "        vertical-align: top;\n",
       "    }\n",
       "\n",
       "    .dataframe thead th {\n",
       "        text-align: right;\n",
       "    }\n",
       "</style>\n",
       "<table border=\"1\" class=\"dataframe\">\n",
       "  <thead>\n",
       "    <tr style=\"text-align: right;\">\n",
       "      <th></th>\n",
       "      <th>Index_ID</th>\n",
       "      <th>Clarity</th>\n",
       "      <th>Color</th>\n",
       "      <th>Cut</th>\n",
       "      <th>Depth</th>\n",
       "      <th>x</th>\n",
       "      <th>y</th>\n",
       "      <th>z</th>\n",
       "      <th>Table</th>\n",
       "      <th>Price</th>\n",
       "      <th>City</th>\n",
       "      <th>Carat</th>\n",
       "      <th>xyz</th>\n",
       "    </tr>\n",
       "  </thead>\n",
       "  <tbody>\n",
       "    <tr>\n",
       "      <th>0</th>\n",
       "      <td>5feceb66ffc86f38d952786c6d696c79c2dbc239dd4e91...</td>\n",
       "      <td>VS2</td>\n",
       "      <td>J</td>\n",
       "      <td>Premium</td>\n",
       "      <td>62.4</td>\n",
       "      <td>6.83</td>\n",
       "      <td>6.79</td>\n",
       "      <td>4.25</td>\n",
       "      <td>58.0</td>\n",
       "      <td>4268</td>\n",
       "      <td>Dubai</td>\n",
       "      <td>1.21</td>\n",
       "      <td>197.096725</td>\n",
       "    </tr>\n",
       "    <tr>\n",
       "      <th>1</th>\n",
       "      <td>6b86b273ff34fce19d6b804eff5a3f5747ada4eaa22f1d...</td>\n",
       "      <td>VS2</td>\n",
       "      <td>H</td>\n",
       "      <td>Very Good</td>\n",
       "      <td>63.0</td>\n",
       "      <td>4.35</td>\n",
       "      <td>4.38</td>\n",
       "      <td>2.75</td>\n",
       "      <td>57.0</td>\n",
       "      <td>505</td>\n",
       "      <td>Kimberly</td>\n",
       "      <td>0.32</td>\n",
       "      <td>52.395750</td>\n",
       "    </tr>\n",
       "    <tr>\n",
       "      <th>2</th>\n",
       "      <td>d4735e3a265e16eee03f59718b9b5d03019c07d8b6c51f...</td>\n",
       "      <td>VS1</td>\n",
       "      <td>G</td>\n",
       "      <td>Fair</td>\n",
       "      <td>65.5</td>\n",
       "      <td>5.62</td>\n",
       "      <td>5.53</td>\n",
       "      <td>3.65</td>\n",
       "      <td>55.0</td>\n",
       "      <td>2686</td>\n",
       "      <td>Las Vegas</td>\n",
       "      <td>0.71</td>\n",
       "      <td>113.436890</td>\n",
       "    </tr>\n",
       "    <tr>\n",
       "      <th>3</th>\n",
       "      <td>4e07408562bedb8b60ce05c1decfe3ad16b72230967de0...</td>\n",
       "      <td>SI1</td>\n",
       "      <td>D</td>\n",
       "      <td>Good</td>\n",
       "      <td>63.8</td>\n",
       "      <td>4.68</td>\n",
       "      <td>4.72</td>\n",
       "      <td>3.00</td>\n",
       "      <td>56.0</td>\n",
       "      <td>738</td>\n",
       "      <td>Kimberly</td>\n",
       "      <td>0.41</td>\n",
       "      <td>66.268800</td>\n",
       "    </tr>\n",
       "    <tr>\n",
       "      <th>4</th>\n",
       "      <td>4b227777d4dd1fc61c6f884f48641d02b4d121d3fd328c...</td>\n",
       "      <td>SI1</td>\n",
       "      <td>G</td>\n",
       "      <td>Ideal</td>\n",
       "      <td>60.5</td>\n",
       "      <td>6.55</td>\n",
       "      <td>6.51</td>\n",
       "      <td>3.95</td>\n",
       "      <td>59.0</td>\n",
       "      <td>4882</td>\n",
       "      <td>Dubai</td>\n",
       "      <td>1.02</td>\n",
       "      <td>168.429975</td>\n",
       "    </tr>\n",
       "  </tbody>\n",
       "</table>\n",
       "</div>"
      ],
      "text/plain": [
       "                                            Index_ID Clarity Color        Cut  \\\n",
       "0  5feceb66ffc86f38d952786c6d696c79c2dbc239dd4e91...     VS2     J    Premium   \n",
       "1  6b86b273ff34fce19d6b804eff5a3f5747ada4eaa22f1d...     VS2     H  Very Good   \n",
       "2  d4735e3a265e16eee03f59718b9b5d03019c07d8b6c51f...     VS1     G       Fair   \n",
       "3  4e07408562bedb8b60ce05c1decfe3ad16b72230967de0...     SI1     D       Good   \n",
       "4  4b227777d4dd1fc61c6f884f48641d02b4d121d3fd328c...     SI1     G      Ideal   \n",
       "\n",
       "   Depth     x     y     z  Table  Price       City  Carat         xyz  \n",
       "0   62.4  6.83  6.79  4.25   58.0   4268      Dubai   1.21  197.096725  \n",
       "1   63.0  4.35  4.38  2.75   57.0    505   Kimberly   0.32   52.395750  \n",
       "2   65.5  5.62  5.53  3.65   55.0   2686  Las Vegas   0.71  113.436890  \n",
       "3   63.8  4.68  4.72  3.00   56.0    738   Kimberly   0.41   66.268800  \n",
       "4   60.5  6.55  6.51  3.95   59.0   4882      Dubai   1.02  168.429975  "
      ]
     },
     "execution_count": 116,
     "metadata": {},
     "output_type": "execute_result"
    }
   ],
   "source": [
    "#creo la columna xyz\n",
    "diamonds['xyz'] = diamonds['x'] * diamonds['y']*diamonds['z']\n",
    "diamonds.head()"
   ]
  },
  {
   "cell_type": "code",
   "execution_count": 117,
   "id": "30ee78fc",
   "metadata": {},
   "outputs": [
    {
     "data": {
      "text/html": [
       "<div>\n",
       "<style scoped>\n",
       "    .dataframe tbody tr th:only-of-type {\n",
       "        vertical-align: middle;\n",
       "    }\n",
       "\n",
       "    .dataframe tbody tr th {\n",
       "        vertical-align: top;\n",
       "    }\n",
       "\n",
       "    .dataframe thead th {\n",
       "        text-align: right;\n",
       "    }\n",
       "</style>\n",
       "<table border=\"1\" class=\"dataframe\">\n",
       "  <thead>\n",
       "    <tr style=\"text-align: right;\">\n",
       "      <th></th>\n",
       "      <th>Depth</th>\n",
       "      <th>x</th>\n",
       "      <th>y</th>\n",
       "      <th>z</th>\n",
       "      <th>Table</th>\n",
       "      <th>Price</th>\n",
       "      <th>Carat</th>\n",
       "      <th>xyz</th>\n",
       "    </tr>\n",
       "  </thead>\n",
       "  <tbody>\n",
       "    <tr>\n",
       "      <th>Depth</th>\n",
       "      <td>1.000000</td>\n",
       "      <td>-0.026348</td>\n",
       "      <td>-0.030966</td>\n",
       "      <td>0.094655</td>\n",
       "      <td>-0.293114</td>\n",
       "      <td>-0.014864</td>\n",
       "      <td>0.026528</td>\n",
       "      <td>0.006721</td>\n",
       "    </tr>\n",
       "    <tr>\n",
       "      <th>x</th>\n",
       "      <td>-0.026348</td>\n",
       "      <td>1.000000</td>\n",
       "      <td>0.973712</td>\n",
       "      <td>0.984876</td>\n",
       "      <td>0.196059</td>\n",
       "      <td>0.885848</td>\n",
       "      <td>0.975688</td>\n",
       "      <td>0.952303</td>\n",
       "    </tr>\n",
       "    <tr>\n",
       "      <th>y</th>\n",
       "      <td>-0.030966</td>\n",
       "      <td>0.973712</td>\n",
       "      <td>1.000000</td>\n",
       "      <td>0.964828</td>\n",
       "      <td>0.184673</td>\n",
       "      <td>0.866163</td>\n",
       "      <td>0.951667</td>\n",
       "      <td>0.977860</td>\n",
       "    </tr>\n",
       "    <tr>\n",
       "      <th>z</th>\n",
       "      <td>0.094655</td>\n",
       "      <td>0.984876</td>\n",
       "      <td>0.964828</td>\n",
       "      <td>1.000000</td>\n",
       "      <td>0.155189</td>\n",
       "      <td>0.874500</td>\n",
       "      <td>0.967570</td>\n",
       "      <td>0.953983</td>\n",
       "    </tr>\n",
       "    <tr>\n",
       "      <th>Table</th>\n",
       "      <td>-0.293114</td>\n",
       "      <td>0.196059</td>\n",
       "      <td>0.184673</td>\n",
       "      <td>0.155189</td>\n",
       "      <td>1.000000</td>\n",
       "      <td>0.130111</td>\n",
       "      <td>0.183392</td>\n",
       "      <td>0.168437</td>\n",
       "    </tr>\n",
       "    <tr>\n",
       "      <th>Price</th>\n",
       "      <td>-0.014864</td>\n",
       "      <td>0.885848</td>\n",
       "      <td>0.866163</td>\n",
       "      <td>0.874500</td>\n",
       "      <td>0.130111</td>\n",
       "      <td>1.000000</td>\n",
       "      <td>0.921935</td>\n",
       "      <td>0.898684</td>\n",
       "    </tr>\n",
       "    <tr>\n",
       "      <th>Carat</th>\n",
       "      <td>0.026528</td>\n",
       "      <td>0.975688</td>\n",
       "      <td>0.951667</td>\n",
       "      <td>0.967570</td>\n",
       "      <td>0.183392</td>\n",
       "      <td>0.921935</td>\n",
       "      <td>1.000000</td>\n",
       "      <td>0.971851</td>\n",
       "    </tr>\n",
       "    <tr>\n",
       "      <th>xyz</th>\n",
       "      <td>0.006721</td>\n",
       "      <td>0.952303</td>\n",
       "      <td>0.977860</td>\n",
       "      <td>0.953983</td>\n",
       "      <td>0.168437</td>\n",
       "      <td>0.898684</td>\n",
       "      <td>0.971851</td>\n",
       "      <td>1.000000</td>\n",
       "    </tr>\n",
       "  </tbody>\n",
       "</table>\n",
       "</div>"
      ],
      "text/plain": [
       "          Depth         x         y         z     Table     Price     Carat  \\\n",
       "Depth  1.000000 -0.026348 -0.030966  0.094655 -0.293114 -0.014864  0.026528   \n",
       "x     -0.026348  1.000000  0.973712  0.984876  0.196059  0.885848  0.975688   \n",
       "y     -0.030966  0.973712  1.000000  0.964828  0.184673  0.866163  0.951667   \n",
       "z      0.094655  0.984876  0.964828  1.000000  0.155189  0.874500  0.967570   \n",
       "Table -0.293114  0.196059  0.184673  0.155189  1.000000  0.130111  0.183392   \n",
       "Price -0.014864  0.885848  0.866163  0.874500  0.130111  1.000000  0.921935   \n",
       "Carat  0.026528  0.975688  0.951667  0.967570  0.183392  0.921935  1.000000   \n",
       "xyz    0.006721  0.952303  0.977860  0.953983  0.168437  0.898684  0.971851   \n",
       "\n",
       "            xyz  \n",
       "Depth  0.006721  \n",
       "x      0.952303  \n",
       "y      0.977860  \n",
       "z      0.953983  \n",
       "Table  0.168437  \n",
       "Price  0.898684  \n",
       "Carat  0.971851  \n",
       "xyz    1.000000  "
      ]
     },
     "execution_count": 117,
     "metadata": {},
     "output_type": "execute_result"
    }
   ],
   "source": [
    "#x,y, z, carat están muy correlacionadas\n",
    "diamonds.corr()"
   ]
  },
  {
   "cell_type": "code",
   "execution_count": 125,
   "id": "168fd83a",
   "metadata": {},
   "outputs": [
    {
     "data": {
      "text/html": [
       "<div>\n",
       "<style scoped>\n",
       "    .dataframe tbody tr th:only-of-type {\n",
       "        vertical-align: middle;\n",
       "    }\n",
       "\n",
       "    .dataframe tbody tr th {\n",
       "        vertical-align: top;\n",
       "    }\n",
       "\n",
       "    .dataframe thead th {\n",
       "        text-align: right;\n",
       "    }\n",
       "</style>\n",
       "<table border=\"1\" class=\"dataframe\">\n",
       "  <thead>\n",
       "    <tr style=\"text-align: right;\">\n",
       "      <th></th>\n",
       "      <th>Carat</th>\n",
       "      <th>Cut</th>\n",
       "      <th>City</th>\n",
       "      <th>Color</th>\n",
       "      <th>Table</th>\n",
       "      <th>Depth</th>\n",
       "      <th>xyz</th>\n",
       "      <th>Price</th>\n",
       "    </tr>\n",
       "  </thead>\n",
       "  <tbody>\n",
       "    <tr>\n",
       "      <th>0</th>\n",
       "      <td>1.21</td>\n",
       "      <td>Premium</td>\n",
       "      <td>Dubai</td>\n",
       "      <td>J</td>\n",
       "      <td>58.0</td>\n",
       "      <td>62.4</td>\n",
       "      <td>197.096725</td>\n",
       "      <td>4268</td>\n",
       "    </tr>\n",
       "    <tr>\n",
       "      <th>1</th>\n",
       "      <td>0.32</td>\n",
       "      <td>Very Good</td>\n",
       "      <td>Kimberly</td>\n",
       "      <td>H</td>\n",
       "      <td>57.0</td>\n",
       "      <td>63.0</td>\n",
       "      <td>52.395750</td>\n",
       "      <td>505</td>\n",
       "    </tr>\n",
       "    <tr>\n",
       "      <th>2</th>\n",
       "      <td>0.71</td>\n",
       "      <td>Fair</td>\n",
       "      <td>Las Vegas</td>\n",
       "      <td>G</td>\n",
       "      <td>55.0</td>\n",
       "      <td>65.5</td>\n",
       "      <td>113.436890</td>\n",
       "      <td>2686</td>\n",
       "    </tr>\n",
       "    <tr>\n",
       "      <th>3</th>\n",
       "      <td>0.41</td>\n",
       "      <td>Good</td>\n",
       "      <td>Kimberly</td>\n",
       "      <td>D</td>\n",
       "      <td>56.0</td>\n",
       "      <td>63.8</td>\n",
       "      <td>66.268800</td>\n",
       "      <td>738</td>\n",
       "    </tr>\n",
       "    <tr>\n",
       "      <th>4</th>\n",
       "      <td>1.02</td>\n",
       "      <td>Ideal</td>\n",
       "      <td>Dubai</td>\n",
       "      <td>G</td>\n",
       "      <td>59.0</td>\n",
       "      <td>60.5</td>\n",
       "      <td>168.429975</td>\n",
       "      <td>4882</td>\n",
       "    </tr>\n",
       "  </tbody>\n",
       "</table>\n",
       "</div>"
      ],
      "text/plain": [
       "   Carat        Cut       City Color  Table  Depth         xyz  Price\n",
       "0   1.21    Premium      Dubai     J   58.0   62.4  197.096725   4268\n",
       "1   0.32  Very Good   Kimberly     H   57.0   63.0   52.395750    505\n",
       "2   0.71       Fair  Las Vegas     G   55.0   65.5  113.436890   2686\n",
       "3   0.41       Good   Kimberly     D   56.0   63.8   66.268800    738\n",
       "4   1.02      Ideal      Dubai     G   59.0   60.5  168.429975   4882"
      ]
     },
     "execution_count": 125,
     "metadata": {},
     "output_type": "execute_result"
    }
   ],
   "source": [
    "# como carat es la mas correlacionada con el precio me quedo con ella\n",
    "reduced= ['Carat', 'Cut','City','Color', 'Table', 'Depth', 'xyz', 'Price' ]\n",
    "diamonds_reduced= diamonds[reduced]\n",
    "diamonds_reduced.head()"
   ]
  },
  {
   "cell_type": "code",
   "execution_count": null,
   "id": "c1d69306",
   "metadata": {},
   "outputs": [],
   "source": []
  },
  {
   "cell_type": "code",
   "execution_count": 126,
   "id": "8c7fe1ef",
   "metadata": {},
   "outputs": [
    {
     "data": {
      "text/plain": [
       "40439"
      ]
     },
     "execution_count": 126,
     "metadata": {},
     "output_type": "execute_result"
    }
   ],
   "source": [
    "diamonds_clean= diamonds[diamonds['xyz']!=0]\n",
    "len(diamonds_clean)\n",
    "\n"
   ]
  },
  {
   "cell_type": "code",
   "execution_count": 127,
   "id": "885787d5",
   "metadata": {},
   "outputs": [
    {
     "name": "stderr",
     "output_type": "stream",
     "text": [
      "/Users/Izaskun/miniconda3/envs/machine/lib/python3.7/site-packages/pandas/core/frame.py:4913: SettingWithCopyWarning: \n",
      "A value is trying to be set on a copy of a slice from a DataFrame\n",
      "\n",
      "See the caveats in the documentation: https://pandas.pydata.org/pandas-docs/stable/user_guide/indexing.html#returning-a-view-versus-a-copy\n",
      "  errors=errors,\n"
     ]
    }
   ],
   "source": [
    "df3= diamonds_clean [ (diamonds_clean['Price'] <1000)& (diamonds_clean['x']<7)& (diamonds_clean['x']>6)]\n",
    "\n",
    "diamonds_clean.drop(df3.index, inplace = True)"
   ]
  },
  {
   "cell_type": "code",
   "execution_count": 128,
   "id": "7ef6bfef",
   "metadata": {},
   "outputs": [
    {
     "data": {
      "text/plain": [
       "<AxesSubplot:xlabel='Price', ylabel='x'>"
      ]
     },
     "execution_count": 128,
     "metadata": {},
     "output_type": "execute_result"
    },
    {
     "data": {
      "image/png": "[encoded data removed]",
      "text/plain": [
       "<Figure size 432x288 with 1 Axes>"
      ]
     },
     "metadata": {
      "needs_background": "light"
     },
     "output_type": "display_data"
    }
   ],
   "source": [
    "diamonds_clean.plot(kind='scatter',x='Price', y='x',color='red')"
   ]
  },
  {
   "cell_type": "code",
   "execution_count": 133,
   "id": "7779c10e",
   "metadata": {},
   "outputs": [],
   "source": [
    "X_train_original= diamonds_clean [['Carat', 'Cut','City','Color', 'Table', 'Depth', 'xyz' ]]\n",
    "y= diamonds_clean['Price']"
   ]
  },
  {
   "cell_type": "code",
   "execution_count": 134,
   "id": "ca63c1b3",
   "metadata": {},
   "outputs": [],
   "source": [
    "X_train_dummies= pd.get_dummies(X_train_original)\n",
    "\n",
    "scaler=StandardScaler()\n",
    "X_train_scaled= scaler.fit_transform(X_train_dummies)\n",
    "\n",
    "X= X_train_scaled \n",
    "y= diamonds['Price']"
   ]
  },
  {
   "cell_type": "code",
   "execution_count": 135,
   "id": "fa3c6383",
   "metadata": {},
   "outputs": [
    {
     "ename": "ValueError",
     "evalue": "Found input variables with inconsistent numbers of samples: [40438, 40455]",
     "output_type": "error",
     "traceback": [
      "\u001b[0;31m---------------------------------------------------------------------------\u001b[0m",
      "\u001b[0;31mValueError\u001b[0m                                Traceback (most recent call last)",
      "\u001b[0;32m/var/folders/7r/gr6209_d4gq41495xng075xw0000gn/T/ipykernel_63792/1442454772.py\u001b[0m in \u001b[0;36m<module>\u001b[0;34m\u001b[0m\n\u001b[0;32m----> 1\u001b[0;31m \u001b[0mX_train\u001b[0m\u001b[0;34m,\u001b[0m \u001b[0mX_test\u001b[0m\u001b[0;34m,\u001b[0m \u001b[0my_train\u001b[0m\u001b[0;34m,\u001b[0m \u001b[0my_test\u001b[0m \u001b[0;34m=\u001b[0m \u001b[0mtrain_test_split\u001b[0m\u001b[0;34m(\u001b[0m\u001b[0mX\u001b[0m\u001b[0;34m,\u001b[0m \u001b[0my\u001b[0m\u001b[0;34m,\u001b[0m \u001b[0mtest_size\u001b[0m\u001b[0;34m=\u001b[0m\u001b[0;36m0.2\u001b[0m\u001b[0;34m,\u001b[0m \u001b[0mrandom_state\u001b[0m\u001b[0;34m=\u001b[0m\u001b[0;36m42\u001b[0m\u001b[0;34m)\u001b[0m\u001b[0;34m\u001b[0m\u001b[0;34m\u001b[0m\u001b[0m\n\u001b[0m",
      "\u001b[0;32m~/miniconda3/envs/machine/lib/python3.7/site-packages/sklearn/model_selection/_split.py\u001b[0m in \u001b[0;36mtrain_test_split\u001b[0;34m(test_size, train_size, random_state, shuffle, stratify, *arrays)\u001b[0m\n\u001b[1;32m   2415\u001b[0m         \u001b[0;32mraise\u001b[0m \u001b[0mValueError\u001b[0m\u001b[0;34m(\u001b[0m\u001b[0;34m\"At least one array required as input\"\u001b[0m\u001b[0;34m)\u001b[0m\u001b[0;34m\u001b[0m\u001b[0;34m\u001b[0m\u001b[0m\n\u001b[1;32m   2416\u001b[0m \u001b[0;34m\u001b[0m\u001b[0m\n\u001b[0;32m-> 2417\u001b[0;31m     \u001b[0marrays\u001b[0m \u001b[0;34m=\u001b[0m \u001b[0mindexable\u001b[0m\u001b[0;34m(\u001b[0m\u001b[0;34m*\u001b[0m\u001b[0marrays\u001b[0m\u001b[0;34m)\u001b[0m\u001b[0;34m\u001b[0m\u001b[0;34m\u001b[0m\u001b[0m\n\u001b[0m\u001b[1;32m   2418\u001b[0m \u001b[0;34m\u001b[0m\u001b[0m\n\u001b[1;32m   2419\u001b[0m     \u001b[0mn_samples\u001b[0m \u001b[0;34m=\u001b[0m \u001b[0m_num_samples\u001b[0m\u001b[0;34m(\u001b[0m\u001b[0marrays\u001b[0m\u001b[0;34m[\u001b[0m\u001b[0;36m0\u001b[0m\u001b[0;34m]\u001b[0m\u001b[0;34m)\u001b[0m\u001b[0;34m\u001b[0m\u001b[0;34m\u001b[0m\u001b[0m\n",
      "\u001b[0;32m~/miniconda3/envs/machine/lib/python3.7/site-packages/sklearn/utils/validation.py\u001b[0m in \u001b[0;36mindexable\u001b[0;34m(*iterables)\u001b[0m\n\u001b[1;32m    376\u001b[0m \u001b[0;34m\u001b[0m\u001b[0m\n\u001b[1;32m    377\u001b[0m     \u001b[0mresult\u001b[0m \u001b[0;34m=\u001b[0m \u001b[0;34m[\u001b[0m\u001b[0m_make_indexable\u001b[0m\u001b[0;34m(\u001b[0m\u001b[0mX\u001b[0m\u001b[0;34m)\u001b[0m \u001b[0;32mfor\u001b[0m \u001b[0mX\u001b[0m \u001b[0;32min\u001b[0m \u001b[0miterables\u001b[0m\u001b[0;34m]\u001b[0m\u001b[0;34m\u001b[0m\u001b[0;34m\u001b[0m\u001b[0m\n\u001b[0;32m--> 378\u001b[0;31m     \u001b[0mcheck_consistent_length\u001b[0m\u001b[0;34m(\u001b[0m\u001b[0;34m*\u001b[0m\u001b[0mresult\u001b[0m\u001b[0;34m)\u001b[0m\u001b[0;34m\u001b[0m\u001b[0;34m\u001b[0m\u001b[0m\n\u001b[0m\u001b[1;32m    379\u001b[0m     \u001b[0;32mreturn\u001b[0m \u001b[0mresult\u001b[0m\u001b[0;34m\u001b[0m\u001b[0;34m\u001b[0m\u001b[0m\n\u001b[1;32m    380\u001b[0m \u001b[0;34m\u001b[0m\u001b[0m\n",
      "\u001b[0;32m~/miniconda3/envs/machine/lib/python3.7/site-packages/sklearn/utils/validation.py\u001b[0m in \u001b[0;36mcheck_consistent_length\u001b[0;34m(*arrays)\u001b[0m\n\u001b[1;32m    332\u001b[0m         raise ValueError(\n\u001b[1;32m    333\u001b[0m             \u001b[0;34m\"Found input variables with inconsistent numbers of samples: %r\"\u001b[0m\u001b[0;34m\u001b[0m\u001b[0;34m\u001b[0m\u001b[0m\n\u001b[0;32m--> 334\u001b[0;31m             \u001b[0;34m%\u001b[0m \u001b[0;34m[\u001b[0m\u001b[0mint\u001b[0m\u001b[0;34m(\u001b[0m\u001b[0ml\u001b[0m\u001b[0;34m)\u001b[0m \u001b[0;32mfor\u001b[0m \u001b[0ml\u001b[0m \u001b[0;32min\u001b[0m \u001b[0mlengths\u001b[0m\u001b[0;34m]\u001b[0m\u001b[0;34m\u001b[0m\u001b[0;34m\u001b[0m\u001b[0m\n\u001b[0m\u001b[1;32m    335\u001b[0m         )\n\u001b[1;32m    336\u001b[0m \u001b[0;34m\u001b[0m\u001b[0m\n",
      "\u001b[0;31mValueError\u001b[0m: Found input variables with inconsistent numbers of samples: [40438, 40455]"
     ]
    }
   ],
   "source": [
    "X_train, X_test, y_train, y_test = train_test_split(X, y, test_size=0.2, random_state=42)"
   ]
  },
  {
   "cell_type": "code",
   "execution_count": 138,
   "id": "a5eb9658",
   "metadata": {},
   "outputs": [
    {
     "name": "stdout",
     "output_type": "stream",
     "text": [
      "rmse1 LinearRegression 1419.62111807745\n",
      "rmse2 linear_model.Lasso 1419.4260774312195\n",
      "rmse3 ElasticNet 1695.344939289889\n",
      "rmse4 Ridge 1419.4759991642627\n",
      "rmse6 SGDRegressor 1426.7246705703697\n"
     ]
    }
   ],
   "source": [
    "model1 = LinearRegression()\n",
    "model2 = linear_model.Lasso()\n",
    "model3 = ElasticNet()\n",
    "model4 = Ridge()\n",
    "#mode5 = SVR()\n",
    "model6 = SGDRegressor()\n",
    "\n",
    "\n",
    "\n",
    "model1.fit(X_train, y_train)\n",
    "y_pred1 = model1.predict(X_test)\n",
    "rmse1 = mean_squared_error(y_test, y_pred1)**0.5\n",
    "\n",
    "model2.fit(X_train, y_train)\n",
    "y_pred2 = model2.predict(X_test)\n",
    "rmse2 = mean_squared_error(y_test, y_pred2)**0.5\n",
    "\n",
    "model3.fit(X_train, y_train)\n",
    "y_pred3 = model3.predict(X_test)\n",
    "rmse3 = mean_squared_error(y_test, y_pred3)**0.5\n",
    "\n",
    "model4.fit(X_train, y_train)\n",
    "y_pred4 = model4.predict(X_test)\n",
    "rmse4 = mean_squared_error(y_test, y_pred4)**0.5\n",
    "\n",
    "model6.fit(X_train, y_train)\n",
    "y_pred6 = model6.predict(X_test)\n",
    "rmse6 = mean_squared_error(y_test, y_pred6)**0.5\n",
    "\n",
    "\n",
    "\n",
    "\n",
    "\n",
    "print('rmse1 LinearRegression', rmse1)\n",
    "print('rmse2 linear_model.Lasso', rmse2)\n",
    "print('rmse3 ElasticNet', rmse3)\n",
    "print('rmse4 Ridge', rmse4)\n",
    "print('rmse6 SGDRegressor', rmse6)\n"
   ]
  },
  {
   "cell_type": "code",
   "execution_count": 139,
   "id": "3cd8ced2",
   "metadata": {},
   "outputs": [
    {
     "name": "stdout",
     "output_type": "stream",
     "text": [
      "rmse7 RandomForestRegressor 1152.1462279911395\n"
     ]
    }
   ],
   "source": [
    "model7= RandomForestRegressor(max_depth=12)\n",
    "model7.fit(X_train, y_train)\n",
    "y_pred7 = model7.predict(X_test)\n",
    "rmse7 = mean_squared_error(y_test, y_pred7)**0.5\n",
    "\n",
    "print('rmse7 RandomForestRegressor', rmse7)"
   ]
  },
  {
   "cell_type": "code",
   "execution_count": 140,
   "id": "a67ff4b6",
   "metadata": {},
   "outputs": [
    {
     "name": "stdout",
     "output_type": "stream",
     "text": [
      "rmse8 ExtraTreesRegressor 1257.608015840414\n"
     ]
    }
   ],
   "source": [
    "model8= ExtraTreesRegressor(n_estimators=15)\n",
    "model8.fit(X_train, y_train)\n",
    "y_pred8 = model8.predict(X_test)\n",
    "rmse8 = mean_squared_error(y_test, y_pred8)**0.5\n",
    "\n",
    "print('rmse8 ExtraTreesRegressor', rmse8)"
   ]
  },
  {
   "cell_type": "code",
   "execution_count": null,
   "id": "0f8a7c04",
   "metadata": {},
   "outputs": [],
   "source": [
    "# creo el csv en el formato que hay que subirlo\n",
    "submission = pd.DataFrame({'id': test_df['id'] , 'price': y_pred})\n",
    "submission.to_csv('submission.csv',index=False)"
   ]
  }
 ],
 "metadata": {
  "kernelspec": {
   "display_name": "Python [conda env:machine]",
   "language": "python",
   "name": "conda-env-machine-py"
  },
  "language_info": {
   "codemirror_mode": {
    "name": "ipython",
    "version": 3
   },
   "file_extension": ".py",
   "mimetype": "text/x-python",
   "name": "python",
   "nbconvert_exporter": "python",
   "pygments_lexer": "ipython3",
   "version": "3.7.13"
  }
 },
 "nbformat": 4,
 "nbformat_minor": 5
}
