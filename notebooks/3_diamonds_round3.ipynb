{
 "cells": [
  {
   "cell_type": "code",
   "execution_count": 1,
   "id": "9ad52e84",
   "metadata": {},
   "outputs": [],
   "source": [
    "import numpy as np\n",
    "import pandas as pd\n",
    "import matplotlib.pyplot as plt\n",
    "\n",
    "from sklearn import datasets\n",
    "from sklearn.datasets import make_regression\n",
    "from sklearn.model_selection import train_test_split\n",
    "from sklearn.preprocessing import StandardScaler\n",
    "from sklearn.metrics import mean_squared_error\n",
    "from sklearn.ensemble import RandomForestRegressor\n",
    "from sklearn.ensemble import ExtraTreesRegressor\n",
    "\n",
    "\n",
    "import pickle\n",
    "import joblib\n",
    "\n",
    "from sklearn import linear_model\n",
    "from sklearn.linear_model import ElasticNet\n",
    "from sklearn.linear_model import Ridge\n",
    "from sklearn.svm import SVR\n",
    "from sklearn.linear_model import SGDRegressor\n",
    "from sklearn.linear_model import LinearRegression"
   ]
  },
  {
   "cell_type": "markdown",
   "id": "0878d3b2",
   "metadata": {},
   "source": [
    "<h2> Entreno el modelo </h2>"
   ]
  },
  {
   "cell_type": "code",
   "execution_count": 20,
   "id": "f84510f8",
   "metadata": {},
   "outputs": [
    {
     "data": {
      "text/html": [
       "<div>\n",
       "<style scoped>\n",
       "    .dataframe tbody tr th:only-of-type {\n",
       "        vertical-align: middle;\n",
       "    }\n",
       "\n",
       "    .dataframe tbody tr th {\n",
       "        vertical-align: top;\n",
       "    }\n",
       "\n",
       "    .dataframe thead th {\n",
       "        text-align: right;\n",
       "    }\n",
       "</style>\n",
       "<table border=\"1\" class=\"dataframe\">\n",
       "  <thead>\n",
       "    <tr style=\"text-align: right;\">\n",
       "      <th></th>\n",
       "      <th>Index_ID</th>\n",
       "      <th>Clarity</th>\n",
       "      <th>Color</th>\n",
       "      <th>Cut</th>\n",
       "      <th>Depth</th>\n",
       "      <th>x</th>\n",
       "      <th>y</th>\n",
       "      <th>z</th>\n",
       "      <th>Table</th>\n",
       "      <th>Price</th>\n",
       "      <th>City</th>\n",
       "      <th>Carat</th>\n",
       "    </tr>\n",
       "  </thead>\n",
       "  <tbody>\n",
       "    <tr>\n",
       "      <th>0</th>\n",
       "      <td>5feceb66ffc86f38d952786c6d696c79c2dbc239dd4e91...</td>\n",
       "      <td>VS2</td>\n",
       "      <td>J</td>\n",
       "      <td>Premium</td>\n",
       "      <td>62.4</td>\n",
       "      <td>6.83</td>\n",
       "      <td>6.79</td>\n",
       "      <td>4.25</td>\n",
       "      <td>58.0</td>\n",
       "      <td>4268</td>\n",
       "      <td>Dubai</td>\n",
       "      <td>1.21</td>\n",
       "    </tr>\n",
       "    <tr>\n",
       "      <th>1</th>\n",
       "      <td>6b86b273ff34fce19d6b804eff5a3f5747ada4eaa22f1d...</td>\n",
       "      <td>VS2</td>\n",
       "      <td>H</td>\n",
       "      <td>Very Good</td>\n",
       "      <td>63.0</td>\n",
       "      <td>4.35</td>\n",
       "      <td>4.38</td>\n",
       "      <td>2.75</td>\n",
       "      <td>57.0</td>\n",
       "      <td>505</td>\n",
       "      <td>Kimberly</td>\n",
       "      <td>0.32</td>\n",
       "    </tr>\n",
       "    <tr>\n",
       "      <th>2</th>\n",
       "      <td>d4735e3a265e16eee03f59718b9b5d03019c07d8b6c51f...</td>\n",
       "      <td>VS1</td>\n",
       "      <td>G</td>\n",
       "      <td>Fair</td>\n",
       "      <td>65.5</td>\n",
       "      <td>5.62</td>\n",
       "      <td>5.53</td>\n",
       "      <td>3.65</td>\n",
       "      <td>55.0</td>\n",
       "      <td>2686</td>\n",
       "      <td>Las Vegas</td>\n",
       "      <td>0.71</td>\n",
       "    </tr>\n",
       "    <tr>\n",
       "      <th>3</th>\n",
       "      <td>4e07408562bedb8b60ce05c1decfe3ad16b72230967de0...</td>\n",
       "      <td>SI1</td>\n",
       "      <td>D</td>\n",
       "      <td>Good</td>\n",
       "      <td>63.8</td>\n",
       "      <td>4.68</td>\n",
       "      <td>4.72</td>\n",
       "      <td>3.00</td>\n",
       "      <td>56.0</td>\n",
       "      <td>738</td>\n",
       "      <td>Kimberly</td>\n",
       "      <td>0.41</td>\n",
       "    </tr>\n",
       "    <tr>\n",
       "      <th>4</th>\n",
       "      <td>4b227777d4dd1fc61c6f884f48641d02b4d121d3fd328c...</td>\n",
       "      <td>SI1</td>\n",
       "      <td>G</td>\n",
       "      <td>Ideal</td>\n",
       "      <td>60.5</td>\n",
       "      <td>6.55</td>\n",
       "      <td>6.51</td>\n",
       "      <td>3.95</td>\n",
       "      <td>59.0</td>\n",
       "      <td>4882</td>\n",
       "      <td>Dubai</td>\n",
       "      <td>1.02</td>\n",
       "    </tr>\n",
       "  </tbody>\n",
       "</table>\n",
       "</div>"
      ],
      "text/plain": [
       "                                            Index_ID Clarity Color        Cut  \\\n",
       "0  5feceb66ffc86f38d952786c6d696c79c2dbc239dd4e91...     VS2     J    Premium   \n",
       "1  6b86b273ff34fce19d6b804eff5a3f5747ada4eaa22f1d...     VS2     H  Very Good   \n",
       "2  d4735e3a265e16eee03f59718b9b5d03019c07d8b6c51f...     VS1     G       Fair   \n",
       "3  4e07408562bedb8b60ce05c1decfe3ad16b72230967de0...     SI1     D       Good   \n",
       "4  4b227777d4dd1fc61c6f884f48641d02b4d121d3fd328c...     SI1     G      Ideal   \n",
       "\n",
       "   Depth     x     y     z  Table  Price       City  Carat  \n",
       "0   62.4  6.83  6.79  4.25   58.0   4268      Dubai   1.21  \n",
       "1   63.0  4.35  4.38  2.75   57.0    505   Kimberly   0.32  \n",
       "2   65.5  5.62  5.53  3.65   55.0   2686  Las Vegas   0.71  \n",
       "3   63.8  4.68  4.72  3.00   56.0    738   Kimberly   0.41  \n",
       "4   60.5  6.55  6.51  3.95   59.0   4882      Dubai   1.02  "
      ]
     },
     "execution_count": 20,
     "metadata": {},
     "output_type": "execute_result"
    }
   ],
   "source": [
    "#me traigo el dataset de entrenamiento\n",
    "\n",
    "diamonds= pd.read_csv('./data/diamonds_train_sab_2.csv')\n",
    "\n",
    "diamonds.head()"
   ]
  },
  {
   "cell_type": "code",
   "execution_count": 21,
   "id": "bc29a16a",
   "metadata": {},
   "outputs": [],
   "source": [
    "# creo una nueva columna para quitarme x, y z\n",
    "diamonds['xyz'] = diamonds['x'] * diamonds['y']*diamonds['z']"
   ]
  },
  {
   "cell_type": "code",
   "execution_count": 24,
   "id": "3212abba",
   "metadata": {},
   "outputs": [
    {
     "data": {
      "text/plain": [
       "40439"
      ]
     },
     "execution_count": 24,
     "metadata": {},
     "output_type": "execute_result"
    }
   ],
   "source": [
    "#me quito valores de x, y, z que sean 0\n",
    "diamonds= diamonds[diamonds['xyz']!=0]\n",
    "len(diamonds)"
   ]
  },
  {
   "cell_type": "code",
   "execution_count": 27,
   "id": "9d71df1f",
   "metadata": {},
   "outputs": [
    {
     "data": {
      "text/plain": [
       "40409"
      ]
     },
     "execution_count": 27,
     "metadata": {},
     "output_type": "execute_result"
    }
   ],
   "source": [
    "#me quito los valores de carat altos\n",
    "diamonds= diamonds[diamonds['Carat']<3]\n",
    "len(diamonds)"
   ]
  },
  {
   "cell_type": "code",
   "execution_count": 28,
   "id": "92aea6b5",
   "metadata": {},
   "outputs": [
    {
     "data": {
      "text/plain": [
       "<AxesSubplot:xlabel='Price', ylabel='Carat'>"
      ]
     },
     "execution_count": 28,
     "metadata": {},
     "output_type": "execute_result"
    },
    {
     "data": {
      "image/png": "[encoded data removed]",
      "text/plain": [
       "<Figure size 432x288 with 1 Axes>"
      ]
     },
     "metadata": {
      "needs_background": "light"
     },
     "output_type": "display_data"
    }
   ],
   "source": [
    "diamonds.plot(kind='scatter',x='Price', y='Carat',color='red')"
   ]
  },
  {
   "cell_type": "code",
   "execution_count": 42,
   "id": "942b2d1e",
   "metadata": {},
   "outputs": [
    {
     "data": {
      "text/html": [
       "<div>\n",
       "<style scoped>\n",
       "    .dataframe tbody tr th:only-of-type {\n",
       "        vertical-align: middle;\n",
       "    }\n",
       "\n",
       "    .dataframe tbody tr th {\n",
       "        vertical-align: top;\n",
       "    }\n",
       "\n",
       "    .dataframe thead th {\n",
       "        text-align: right;\n",
       "    }\n",
       "</style>\n",
       "<table border=\"1\" class=\"dataframe\">\n",
       "  <thead>\n",
       "    <tr style=\"text-align: right;\">\n",
       "      <th></th>\n",
       "      <th>Index_ID</th>\n",
       "      <th>Clarity</th>\n",
       "      <th>Color</th>\n",
       "      <th>Cut</th>\n",
       "      <th>Depth</th>\n",
       "      <th>x</th>\n",
       "      <th>y</th>\n",
       "      <th>z</th>\n",
       "      <th>Table</th>\n",
       "      <th>Price</th>\n",
       "      <th>City</th>\n",
       "      <th>Carat</th>\n",
       "      <th>xyz</th>\n",
       "    </tr>\n",
       "  </thead>\n",
       "  <tbody>\n",
       "    <tr>\n",
       "      <th>0</th>\n",
       "      <td>5feceb66ffc86f38d952786c6d696c79c2dbc239dd4e91...</td>\n",
       "      <td>VS2</td>\n",
       "      <td>J</td>\n",
       "      <td>Premium</td>\n",
       "      <td>62.4</td>\n",
       "      <td>6.83</td>\n",
       "      <td>6.79</td>\n",
       "      <td>4.25</td>\n",
       "      <td>58.0</td>\n",
       "      <td>4268</td>\n",
       "      <td>Dubai</td>\n",
       "      <td>1.21</td>\n",
       "      <td>197.096725</td>\n",
       "    </tr>\n",
       "  </tbody>\n",
       "</table>\n",
       "</div>"
      ],
      "text/plain": [
       "                                            Index_ID Clarity Color      Cut  \\\n",
       "0  5feceb66ffc86f38d952786c6d696c79c2dbc239dd4e91...     VS2     J  Premium   \n",
       "\n",
       "   Depth     x     y     z  Table  Price   City  Carat         xyz  \n",
       "0   62.4  6.83  6.79  4.25   58.0   4268  Dubai   1.21  197.096725  "
      ]
     },
     "execution_count": 42,
     "metadata": {},
     "output_type": "execute_result"
    }
   ],
   "source": [
    "diamonds.head(1)"
   ]
  },
  {
   "cell_type": "code",
   "execution_count": 43,
   "id": "a93287ec",
   "metadata": {},
   "outputs": [],
   "source": [
    "#columnas con las que me quedo\n",
    "X_train_original= diamonds [['Carat', 'Cut','City','Color', 'Table', 'Depth', 'xyz' ]]\n",
    "y= diamonds['Price']\n"
   ]
  },
  {
   "cell_type": "code",
   "execution_count": 46,
   "id": "625befdb",
   "metadata": {},
   "outputs": [],
   "source": [
    "# get dummies, escalado y entrenar mi modelo\n",
    "\n",
    "X_train_dummies= pd.get_dummies(X_train_original)\n",
    "\n",
    "scaler=StandardScaler()\n",
    "X_train_scaled= scaler.fit_transform(X_train_dummies)\n",
    "\n",
    "X= X_train_scaled \n",
    "y= diamonds['Price']"
   ]
  },
  {
   "cell_type": "code",
   "execution_count": 47,
   "id": "8b80c26a",
   "metadata": {},
   "outputs": [],
   "source": [
    "# split\n",
    "X_train, X_test, y_train, y_test = train_test_split(X, y, test_size=0.2, random_state=42)"
   ]
  },
  {
   "cell_type": "markdown",
   "id": "b2bea221",
   "metadata": {},
   "source": [
    "<h2> Compruebo mi error </h2>"
   ]
  },
  {
   "cell_type": "code",
   "execution_count": 48,
   "id": "bc25432e",
   "metadata": {},
   "outputs": [
    {
     "name": "stdout",
     "output_type": "stream",
     "text": [
      "rmse RandomForestRegressor 1128.485308539063\n"
     ]
    }
   ],
   "source": [
    "model= RandomForestRegressor(max_depth=12)\n",
    "model.fit(X_train, y_train)\n",
    "y_pred = model.predict(X_test)\n",
    "rmse = mean_squared_error(y_test, y_pred)**0.5\n",
    "\n",
    "print('rmse RandomForestRegressor', rmse)"
   ]
  },
  {
   "cell_type": "markdown",
   "id": "18757935",
   "metadata": {},
   "source": [
    "<h2> Hago la prediccion </h2>"
   ]
  },
  {
   "cell_type": "code",
   "execution_count": 68,
   "id": "e0576447",
   "metadata": {},
   "outputs": [
    {
     "data": {
      "text/html": [
       "<div>\n",
       "<style scoped>\n",
       "    .dataframe tbody tr th:only-of-type {\n",
       "        vertical-align: middle;\n",
       "    }\n",
       "\n",
       "    .dataframe tbody tr th {\n",
       "        vertical-align: top;\n",
       "    }\n",
       "\n",
       "    .dataframe thead th {\n",
       "        text-align: right;\n",
       "    }\n",
       "</style>\n",
       "<table border=\"1\" class=\"dataframe\">\n",
       "  <thead>\n",
       "    <tr style=\"text-align: right;\">\n",
       "      <th></th>\n",
       "      <th>id</th>\n",
       "      <th>carat</th>\n",
       "      <th>cut</th>\n",
       "      <th>color</th>\n",
       "      <th>clarity</th>\n",
       "      <th>depth</th>\n",
       "      <th>table</th>\n",
       "      <th>x</th>\n",
       "      <th>y</th>\n",
       "      <th>z</th>\n",
       "      <th>city</th>\n",
       "    </tr>\n",
       "  </thead>\n",
       "  <tbody>\n",
       "    <tr>\n",
       "      <th>0</th>\n",
       "      <td>0</td>\n",
       "      <td>0.79</td>\n",
       "      <td>Very Good</td>\n",
       "      <td>F</td>\n",
       "      <td>SI1</td>\n",
       "      <td>62.7</td>\n",
       "      <td>60.0</td>\n",
       "      <td>5.82</td>\n",
       "      <td>5.89</td>\n",
       "      <td>3.67</td>\n",
       "      <td>Amsterdam</td>\n",
       "    </tr>\n",
       "    <tr>\n",
       "      <th>1</th>\n",
       "      <td>1</td>\n",
       "      <td>1.20</td>\n",
       "      <td>Ideal</td>\n",
       "      <td>J</td>\n",
       "      <td>VS1</td>\n",
       "      <td>61.0</td>\n",
       "      <td>57.0</td>\n",
       "      <td>6.81</td>\n",
       "      <td>6.89</td>\n",
       "      <td>4.18</td>\n",
       "      <td>Surat</td>\n",
       "    </tr>\n",
       "    <tr>\n",
       "      <th>2</th>\n",
       "      <td>2</td>\n",
       "      <td>1.57</td>\n",
       "      <td>Premium</td>\n",
       "      <td>H</td>\n",
       "      <td>SI1</td>\n",
       "      <td>62.2</td>\n",
       "      <td>61.0</td>\n",
       "      <td>7.38</td>\n",
       "      <td>7.32</td>\n",
       "      <td>4.57</td>\n",
       "      <td>Kimberly</td>\n",
       "    </tr>\n",
       "    <tr>\n",
       "      <th>3</th>\n",
       "      <td>3</td>\n",
       "      <td>0.90</td>\n",
       "      <td>Very Good</td>\n",
       "      <td>F</td>\n",
       "      <td>SI1</td>\n",
       "      <td>63.8</td>\n",
       "      <td>54.0</td>\n",
       "      <td>6.09</td>\n",
       "      <td>6.13</td>\n",
       "      <td>3.90</td>\n",
       "      <td>Kimberly</td>\n",
       "    </tr>\n",
       "    <tr>\n",
       "      <th>4</th>\n",
       "      <td>4</td>\n",
       "      <td>0.50</td>\n",
       "      <td>Very Good</td>\n",
       "      <td>F</td>\n",
       "      <td>VS1</td>\n",
       "      <td>62.9</td>\n",
       "      <td>58.0</td>\n",
       "      <td>5.05</td>\n",
       "      <td>5.09</td>\n",
       "      <td>3.19</td>\n",
       "      <td>Amsterdam</td>\n",
       "    </tr>\n",
       "  </tbody>\n",
       "</table>\n",
       "</div>"
      ],
      "text/plain": [
       "   id  carat        cut color clarity  depth  table     x     y     z  \\\n",
       "0   0   0.79  Very Good     F     SI1   62.7   60.0  5.82  5.89  3.67   \n",
       "1   1   1.20      Ideal     J     VS1   61.0   57.0  6.81  6.89  4.18   \n",
       "2   2   1.57    Premium     H     SI1   62.2   61.0  7.38  7.32  4.57   \n",
       "3   3   0.90  Very Good     F     SI1   63.8   54.0  6.09  6.13  3.90   \n",
       "4   4   0.50  Very Good     F     VS1   62.9   58.0  5.05  5.09  3.19   \n",
       "\n",
       "        city  \n",
       "0  Amsterdam  \n",
       "1      Surat  \n",
       "2   Kimberly  \n",
       "3   Kimberly  \n",
       "4  Amsterdam  "
      ]
     },
     "execution_count": 68,
     "metadata": {},
     "output_type": "execute_result"
    }
   ],
   "source": [
    "test_df= pd.read_csv('./data/diamonds_test.csv')\n",
    "test_df.head()"
   ]
  },
  {
   "cell_type": "code",
   "execution_count": 13,
   "id": "9126caab",
   "metadata": {},
   "outputs": [
    {
     "data": {
      "text/plain": [
       "<AxesSubplot:>"
      ]
     },
     "execution_count": 13,
     "metadata": {},
     "output_type": "execute_result"
    },
    {
     "data": {
      "image/png": "[encoded data removed]",
      "text/plain": [
       "<Figure size 432x288 with 1 Axes>"
      ]
     },
     "metadata": {
      "needs_background": "light"
     },
     "output_type": "display_data"
    }
   ],
   "source": [
    "test_df['carat'].hist(bins=20)"
   ]
  },
  {
   "cell_type": "code",
   "execution_count": 34,
   "id": "816f260c",
   "metadata": {},
   "outputs": [
    {
     "data": {
      "text/plain": [
       "13485"
      ]
     },
     "execution_count": 34,
     "metadata": {},
     "output_type": "execute_result"
    }
   ],
   "source": [
    "len(test_df)"
   ]
  },
  {
   "cell_type": "code",
   "execution_count": 30,
   "id": "57d00357",
   "metadata": {},
   "outputs": [
    {
     "data": {
      "text/html": [
       "<div>\n",
       "<style scoped>\n",
       "    .dataframe tbody tr th:only-of-type {\n",
       "        vertical-align: middle;\n",
       "    }\n",
       "\n",
       "    .dataframe tbody tr th {\n",
       "        vertical-align: top;\n",
       "    }\n",
       "\n",
       "    .dataframe thead th {\n",
       "        text-align: right;\n",
       "    }\n",
       "</style>\n",
       "<table border=\"1\" class=\"dataframe\">\n",
       "  <thead>\n",
       "    <tr style=\"text-align: right;\">\n",
       "      <th></th>\n",
       "      <th>id</th>\n",
       "      <th>carat</th>\n",
       "      <th>cut</th>\n",
       "      <th>color</th>\n",
       "      <th>clarity</th>\n",
       "      <th>depth</th>\n",
       "      <th>table</th>\n",
       "      <th>x</th>\n",
       "      <th>y</th>\n",
       "      <th>z</th>\n",
       "      <th>city</th>\n",
       "    </tr>\n",
       "  </thead>\n",
       "  <tbody>\n",
       "    <tr>\n",
       "      <th>94</th>\n",
       "      <td>94</td>\n",
       "      <td>5.01</td>\n",
       "      <td>Fair</td>\n",
       "      <td>J</td>\n",
       "      <td>I1</td>\n",
       "      <td>65.5</td>\n",
       "      <td>59.0</td>\n",
       "      <td>10.74</td>\n",
       "      <td>10.54</td>\n",
       "      <td>6.98</td>\n",
       "      <td>Luxembourg</td>\n",
       "    </tr>\n",
       "    <tr>\n",
       "      <th>8355</th>\n",
       "      <td>8355</td>\n",
       "      <td>3.01</td>\n",
       "      <td>Premium</td>\n",
       "      <td>J</td>\n",
       "      <td>SI2</td>\n",
       "      <td>60.7</td>\n",
       "      <td>59.0</td>\n",
       "      <td>9.35</td>\n",
       "      <td>9.22</td>\n",
       "      <td>5.64</td>\n",
       "      <td>Zurich</td>\n",
       "    </tr>\n",
       "    <tr>\n",
       "      <th>8976</th>\n",
       "      <td>8976</td>\n",
       "      <td>3.04</td>\n",
       "      <td>Very Good</td>\n",
       "      <td>I</td>\n",
       "      <td>SI2</td>\n",
       "      <td>63.2</td>\n",
       "      <td>59.0</td>\n",
       "      <td>9.14</td>\n",
       "      <td>9.07</td>\n",
       "      <td>5.75</td>\n",
       "      <td>Zurich</td>\n",
       "    </tr>\n",
       "    <tr>\n",
       "      <th>9838</th>\n",
       "      <td>9838</td>\n",
       "      <td>3.65</td>\n",
       "      <td>Fair</td>\n",
       "      <td>H</td>\n",
       "      <td>I1</td>\n",
       "      <td>67.1</td>\n",
       "      <td>53.0</td>\n",
       "      <td>9.53</td>\n",
       "      <td>9.48</td>\n",
       "      <td>6.38</td>\n",
       "      <td>London</td>\n",
       "    </tr>\n",
       "    <tr>\n",
       "      <th>12305</th>\n",
       "      <td>12305</td>\n",
       "      <td>3.67</td>\n",
       "      <td>Premium</td>\n",
       "      <td>I</td>\n",
       "      <td>I1</td>\n",
       "      <td>62.4</td>\n",
       "      <td>56.0</td>\n",
       "      <td>9.86</td>\n",
       "      <td>9.81</td>\n",
       "      <td>6.13</td>\n",
       "      <td>Luxembourg</td>\n",
       "    </tr>\n",
       "    <tr>\n",
       "      <th>12392</th>\n",
       "      <td>12392</td>\n",
       "      <td>3.01</td>\n",
       "      <td>Fair</td>\n",
       "      <td>I</td>\n",
       "      <td>SI2</td>\n",
       "      <td>65.8</td>\n",
       "      <td>56.0</td>\n",
       "      <td>8.99</td>\n",
       "      <td>8.94</td>\n",
       "      <td>5.90</td>\n",
       "      <td>Kimberly</td>\n",
       "    </tr>\n",
       "  </tbody>\n",
       "</table>\n",
       "</div>"
      ],
      "text/plain": [
       "          id  carat        cut color clarity  depth  table      x      y  \\\n",
       "94        94   5.01       Fair     J      I1   65.5   59.0  10.74  10.54   \n",
       "8355    8355   3.01    Premium     J     SI2   60.7   59.0   9.35   9.22   \n",
       "8976    8976   3.04  Very Good     I     SI2   63.2   59.0   9.14   9.07   \n",
       "9838    9838   3.65       Fair     H      I1   67.1   53.0   9.53   9.48   \n",
       "12305  12305   3.67    Premium     I      I1   62.4   56.0   9.86   9.81   \n",
       "12392  12392   3.01       Fair     I     SI2   65.8   56.0   8.99   8.94   \n",
       "\n",
       "          z        city  \n",
       "94     6.98  Luxembourg  \n",
       "8355   5.64      Zurich  \n",
       "8976   5.75      Zurich  \n",
       "9838   6.38      London  \n",
       "12305  6.13  Luxembourg  \n",
       "12392  5.90    Kimberly  "
      ]
     },
     "execution_count": 30,
     "metadata": {},
     "output_type": "execute_result"
    }
   ],
   "source": []
  },
  {
   "cell_type": "markdown",
   "id": "dd73cdec",
   "metadata": {},
   "source": [
    "<h2> Preparo el dataframe como he hecho con el train </h2>"
   ]
  },
  {
   "cell_type": "code",
   "execution_count": 69,
   "id": "816bb1cf",
   "metadata": {},
   "outputs": [],
   "source": [
    "# creo una nueva columna para quitarme x, y z\n",
    "test_df['xyz'] = test_df['x'] * test_df['y']*test_df['z']\n",
    "\n",
    "#columnas con las que me quedo\n",
    "test_df_mod= test_df [['carat', 'cut','city','color', 'table', 'depth', 'xyz' ]]\n",
    "\n",
    "# get dummies y escalado\n",
    "\n",
    "test_df_mod= pd.get_dummies(test_df_mod)\n",
    "\n",
    "scaler=StandardScaler()\n",
    "X_test= scaler.fit_transform(test_df_mod)\n"
   ]
  },
  {
   "cell_type": "code",
   "execution_count": 70,
   "id": "cd39581a",
   "metadata": {},
   "outputs": [
    {
     "data": {
      "text/plain": [
       "13485"
      ]
     },
     "execution_count": 70,
     "metadata": {},
     "output_type": "execute_result"
    }
   ],
   "source": [
    "#hago la predicción de los valores de y con mi modelo\n",
    "y_pred= model.predict(X_test)\n",
    "len(y_pred)"
   ]
  },
  {
   "cell_type": "code",
   "execution_count": 72,
   "id": "526d8cdd",
   "metadata": {},
   "outputs": [],
   "source": [
    "# creo el csv en el formato que hay que subirlo\n",
    "submission = pd.DataFrame({'id': test_df['id'] , 'price': y_pred})\n",
    "submission.to_csv('./data_submission/submission_3_31.csv',index=False)"
   ]
  },
  {
   "cell_type": "code",
   "execution_count": null,
   "id": "5c91b7df",
   "metadata": {},
   "outputs": [],
   "source": []
  }
 ],
 "metadata": {
  "kernelspec": {
   "display_name": "Python [conda env:machine]",
   "language": "python",
   "name": "conda-env-machine-py"
  },
  "language_info": {
   "codemirror_mode": {
    "name": "ipython",
    "version": 3
   },
   "file_extension": ".py",
   "mimetype": "text/x-python",
   "name": "python",
   "nbconvert_exporter": "python",
   "pygments_lexer": "ipython3",
   "version": "3.7.13"
  }
 },
 "nbformat": 4,
 "nbformat_minor": 5
}
