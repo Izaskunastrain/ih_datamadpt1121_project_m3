{
 "cells": [
  {
   "cell_type": "code",
   "execution_count": 66,
   "id": "6fffe9e9",
   "metadata": {},
   "outputs": [],
   "source": [
    "import numpy as np\n",
    "import pandas as pd\n",
    "import matplotlib.pyplot as plt\n",
    "\n",
    "from sklearn import datasets\n",
    "from sklearn.datasets import make_regression\n",
    "from sklearn.model_selection import train_test_split\n",
    "import pickle\n",
    "import joblib\n",
    "\n",
    "from sklearn import linear_model\n",
    "from sklearn.linear_model import ElasticNet\n",
    "from sklearn.linear_model import Ridge\n",
    "from sklearn.svm import SVR\n",
    "from sklearn.linear_model import SGDRegressor\n",
    "from sklearn.linear_model import LinearRegression\n"
   ]
  },
  {
   "cell_type": "code",
   "execution_count": 67,
   "id": "7f5288fb",
   "metadata": {},
   "outputs": [
    {
     "data": {
      "text/html": [
       "<div>\n",
       "<style scoped>\n",
       "    .dataframe tbody tr th:only-of-type {\n",
       "        vertical-align: middle;\n",
       "    }\n",
       "\n",
       "    .dataframe tbody tr th {\n",
       "        vertical-align: top;\n",
       "    }\n",
       "\n",
       "    .dataframe thead th {\n",
       "        text-align: right;\n",
       "    }\n",
       "</style>\n",
       "<table border=\"1\" class=\"dataframe\">\n",
       "  <thead>\n",
       "    <tr style=\"text-align: right;\">\n",
       "      <th></th>\n",
       "      <th>Index_ID</th>\n",
       "      <th>Clarity</th>\n",
       "      <th>Color</th>\n",
       "      <th>Cut</th>\n",
       "      <th>Depth</th>\n",
       "      <th>x</th>\n",
       "      <th>y</th>\n",
       "      <th>z</th>\n",
       "      <th>Table</th>\n",
       "      <th>Price</th>\n",
       "      <th>City</th>\n",
       "    </tr>\n",
       "  </thead>\n",
       "  <tbody>\n",
       "    <tr>\n",
       "      <th>0</th>\n",
       "      <td>5feceb66ffc86f38d952786c6d696c79c2dbc239dd4e91...</td>\n",
       "      <td>VS2</td>\n",
       "      <td>J</td>\n",
       "      <td>Premium</td>\n",
       "      <td>62.4</td>\n",
       "      <td>6.83</td>\n",
       "      <td>6.79</td>\n",
       "      <td>4.25</td>\n",
       "      <td>58.0</td>\n",
       "      <td>4268</td>\n",
       "      <td>Dubai</td>\n",
       "    </tr>\n",
       "    <tr>\n",
       "      <th>1</th>\n",
       "      <td>6b86b273ff34fce19d6b804eff5a3f5747ada4eaa22f1d...</td>\n",
       "      <td>VS2</td>\n",
       "      <td>H</td>\n",
       "      <td>Very Good</td>\n",
       "      <td>63.0</td>\n",
       "      <td>4.35</td>\n",
       "      <td>4.38</td>\n",
       "      <td>2.75</td>\n",
       "      <td>57.0</td>\n",
       "      <td>505</td>\n",
       "      <td>Kimberly</td>\n",
       "    </tr>\n",
       "    <tr>\n",
       "      <th>2</th>\n",
       "      <td>d4735e3a265e16eee03f59718b9b5d03019c07d8b6c51f...</td>\n",
       "      <td>VS1</td>\n",
       "      <td>G</td>\n",
       "      <td>Fair</td>\n",
       "      <td>65.5</td>\n",
       "      <td>5.62</td>\n",
       "      <td>5.53</td>\n",
       "      <td>3.65</td>\n",
       "      <td>55.0</td>\n",
       "      <td>2686</td>\n",
       "      <td>Las Vegas</td>\n",
       "    </tr>\n",
       "    <tr>\n",
       "      <th>3</th>\n",
       "      <td>4e07408562bedb8b60ce05c1decfe3ad16b72230967de0...</td>\n",
       "      <td>SI1</td>\n",
       "      <td>D</td>\n",
       "      <td>Good</td>\n",
       "      <td>63.8</td>\n",
       "      <td>4.68</td>\n",
       "      <td>4.72</td>\n",
       "      <td>3.00</td>\n",
       "      <td>56.0</td>\n",
       "      <td>738</td>\n",
       "      <td>Kimberly</td>\n",
       "    </tr>\n",
       "    <tr>\n",
       "      <th>4</th>\n",
       "      <td>4b227777d4dd1fc61c6f884f48641d02b4d121d3fd328c...</td>\n",
       "      <td>SI1</td>\n",
       "      <td>G</td>\n",
       "      <td>Ideal</td>\n",
       "      <td>60.5</td>\n",
       "      <td>6.55</td>\n",
       "      <td>6.51</td>\n",
       "      <td>3.95</td>\n",
       "      <td>59.0</td>\n",
       "      <td>4882</td>\n",
       "      <td>Dubai</td>\n",
       "    </tr>\n",
       "  </tbody>\n",
       "</table>\n",
       "</div>"
      ],
      "text/plain": [
       "                                            Index_ID Clarity Color        Cut  \\\n",
       "0  5feceb66ffc86f38d952786c6d696c79c2dbc239dd4e91...     VS2     J    Premium   \n",
       "1  6b86b273ff34fce19d6b804eff5a3f5747ada4eaa22f1d...     VS2     H  Very Good   \n",
       "2  d4735e3a265e16eee03f59718b9b5d03019c07d8b6c51f...     VS1     G       Fair   \n",
       "3  4e07408562bedb8b60ce05c1decfe3ad16b72230967de0...     SI1     D       Good   \n",
       "4  4b227777d4dd1fc61c6f884f48641d02b4d121d3fd328c...     SI1     G      Ideal   \n",
       "\n",
       "   Depth     x     y     z  Table  Price       City  \n",
       "0   62.4  6.83  6.79  4.25   58.0   4268      Dubai  \n",
       "1   63.0  4.35  4.38  2.75   57.0    505   Kimberly  \n",
       "2   65.5  5.62  5.53  3.65   55.0   2686  Las Vegas  \n",
       "3   63.8  4.68  4.72  3.00   56.0    738   Kimberly  \n",
       "4   60.5  6.55  6.51  3.95   59.0   4882      Dubai  "
      ]
     },
     "execution_count": 67,
     "metadata": {},
     "output_type": "execute_result"
    }
   ],
   "source": [
    "#me traigo el dataset de entrenamiento\n",
    "\n",
    "train= pd.read_csv('./data/diamonds_train.csv')\n",
    "\n",
    "train.head()"
   ]
  },
  {
   "cell_type": "code",
   "execution_count": 68,
   "id": "435427ff",
   "metadata": {},
   "outputs": [],
   "source": [
    "#separo la variable que quiero predecir\n",
    "\n",
    "X_original= train[['Clarity', 'Color', 'Cut', 'Depth', 'x', 'y', 'z', 'Table', 'City']]\n",
    "y_original= train['Price']"
   ]
  },
  {
   "cell_type": "code",
   "execution_count": 79,
   "id": "4dfb8148",
   "metadata": {},
   "outputs": [
    {
     "data": {
      "text/plain": [
       "0         4268\n",
       "1          505\n",
       "2         2686\n",
       "3          738\n",
       "4         4882\n",
       "         ...  \n",
       "40450    10070\n",
       "40451    12615\n",
       "40452     5457\n",
       "40453      456\n",
       "40454     6232\n",
       "Name: Price, Length: 40455, dtype: int64"
      ]
     },
     "execution_count": 79,
     "metadata": {},
     "output_type": "execute_result"
    }
   ],
   "source": [
    "#le aplico dummies para convertir las vairables categóricas\n",
    "X_train_dummies= pd.get_dummies(X_train_original)\n",
    "\n",
    "#le aplico un scaler para que no haya variables que pesen más\n",
    "scaler=StandardScaler()\n",
    "X_train_scaled= scaler.fit_transform(X_train_dummies)\n",
    "\n",
    "X= X_train_scaled \n",
    "y= y_original\n",
    "y"
   ]
  },
  {
   "cell_type": "code",
   "execution_count": 70,
   "id": "13247746",
   "metadata": {},
   "outputs": [
    {
     "name": "stdout",
     "output_type": "stream",
     "text": [
      "X_train: (32364, 38), X_test: (8091, 38), y_train: (32364,), y_test: (8091,)\n"
     ]
    }
   ],
   "source": [
    "X_train, X_test, y_train, y_test = train_test_split(X, y, test_size=0.2, random_state=42)\n",
    "print(f\"X_train: {X_train.shape}, X_test: {X_test.shape}, y_train: {y_train.shape}, y_test: {y_test.shape}\")"
   ]
  },
  {
   "cell_type": "code",
   "execution_count": 75,
   "id": "88ec7f85",
   "metadata": {},
   "outputs": [
    {
     "name": "stdout",
     "output_type": "stream",
     "text": [
      "CPU times: user 199 µs, sys: 789 µs, total: 988 µs\n",
      "Wall time: 795 µs\n"
     ]
    }
   ],
   "source": [
    "%%time\n",
    "\n",
    "# Model definition\n",
    "\n",
    "#model = linear_model.Lasso()\n",
    "#model = ElasticNet()\n",
    "#model = Ridge()\n",
    "#model = SVR()\n",
    "model = SGDRegressor()\n",
    "#model = LinearRegression()\n",
    "\n",
    "#hyperparameters = model.get_params()\n",
    "\n",
    "#print(type(model), '\\n')\n",
    "#print('Model hyperparameters:', hyperparameters, '\\n')"
   ]
  },
  {
   "cell_type": "code",
   "execution_count": 76,
   "id": "75256e71",
   "metadata": {},
   "outputs": [
    {
     "name": "stdout",
     "output_type": "stream",
     "text": [
      "CPU times: user 229 ms, sys: 25.1 ms, total: 255 ms\n",
      "Wall time: 282 ms\n"
     ]
    },
    {
     "data": {
      "text/plain": [
       "SGDRegressor()"
      ]
     },
     "execution_count": 76,
     "metadata": {},
     "output_type": "execute_result"
    }
   ],
   "source": [
    "%%time\n",
    "\n",
    "# Model training\n",
    "\n",
    "model.fit(X_train, y_train)\n",
    "\n",
    "#print('Model:', model, '\\n')\n",
    "#print('Model hyperparameters:', hyperparameters, '\\n')\n",
    "#print('Model coefficients:', model.coef_, '\\n')"
   ]
  },
  {
   "cell_type": "code",
   "execution_count": 77,
   "id": "ee73e1f0",
   "metadata": {},
   "outputs": [
    {
     "name": "stdout",
     "output_type": "stream",
     "text": [
      "CPU times: user 3.36 ms, sys: 4.92 ms, total: 8.28 ms\n",
      "Wall time: 8.6 ms\n"
     ]
    }
   ],
   "source": [
    "%%time\n",
    "\n",
    "# Model predictions\n",
    "\n",
    "y_pred = model.predict(X_test)\n",
    "\n",
    "#print(type(predictions))"
   ]
  },
  {
   "cell_type": "code",
   "execution_count": 78,
   "id": "5dc77d80",
   "metadata": {
    "scrolled": false
   },
   "outputs": [
    {
     "data": {
      "text/plain": [
       "1590.1682667640387"
      ]
     },
     "execution_count": 78,
     "metadata": {},
     "output_type": "execute_result"
    }
   ],
   "source": [
    "#Calculo el error cuadrático\n",
    "rmse = mean_squared_error(y_test, y_pred)**0.5\n",
    "rmse"
   ]
  },
  {
   "cell_type": "code",
   "execution_count": null,
   "id": "e2cbcab2",
   "metadata": {},
   "outputs": [],
   "source": []
  }
 ],
 "metadata": {
  "kernelspec": {
   "display_name": "Python [conda env:machine]",
   "language": "python",
   "name": "conda-env-machine-py"
  },
  "language_info": {
   "codemirror_mode": {
    "name": "ipython",
    "version": 3
   },
   "file_extension": ".py",
   "mimetype": "text/x-python",
   "name": "python",
   "nbconvert_exporter": "python",
   "pygments_lexer": "ipython3",
   "version": "3.7.13"
  }
 },
 "nbformat": 4,
 "nbformat_minor": 5
}
